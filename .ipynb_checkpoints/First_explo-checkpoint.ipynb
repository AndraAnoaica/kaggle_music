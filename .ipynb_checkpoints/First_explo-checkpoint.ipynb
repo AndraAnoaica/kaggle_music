{
 "cells": [
  {
   "cell_type": "code",
   "execution_count": 1,
   "metadata": {
    "collapsed": true
   },
   "outputs": [],
   "source": [
    "import pandas as pd\n",
    "import matplotlib.pyplot as plt\n",
    "import seaborn as sns\n",
    "%matplotlib inline"
   ]
  },
  {
   "cell_type": "code",
   "execution_count": 2,
   "metadata": {
    "collapsed": true
   },
   "outputs": [],
   "source": [
    "def load_df(path):\n",
    "\n",
    "    train_df = pd.read_csv(path)\n",
    "    print(train_df.columns)\n",
    "    print(train_df.shape)\n",
    "    return train_df"
   ]
  },
  {
   "cell_type": "code",
   "execution_count": 3,
   "metadata": {},
   "outputs": [
    {
     "name": "stdout",
     "output_type": "stream",
     "text": [
      "Index(['msno', 'is_churn'], dtype='object')\n",
      "(992931, 2)\n",
      "Index(['msno', 'city', 'bd', 'gender', 'registered_via',\n",
      "       'registration_init_time', 'expiration_date'],\n",
      "      dtype='object')\n",
      "(5116194, 7)\n",
      "Index(['msno', 'payment_method_id', 'payment_plan_days', 'plan_list_price',\n",
      "       'actual_amount_paid', 'is_auto_renew', 'transaction_date',\n",
      "       'membership_expire_date', 'is_cancel'],\n",
      "      dtype='object')\n",
      "(21547746, 9)\n"
     ]
    }
   ],
   "source": [
    "train_df = load_df(\"/media/andraa/10160545101605451/kaggle/WSDM-kaggle/data/train.csv\")\n",
    "members_df = load_df(\"/media/andraa/10160545101605451/kaggle/WSDM-kaggle/data/members.csv\")\n",
    "transactions_df = load_df(\"/media/andraa/10160545101605451/kaggle/WSDM-kaggle/data/transactions.csv\")\n"
   ]
  },
  {
   "cell_type": "code",
   "execution_count": 4,
   "metadata": {},
   "outputs": [
    {
     "name": "stdout",
     "output_type": "stream",
     "text": [
      "Index(['msno', 'is_churn'], dtype='object')\n",
      "(970960, 2)\n"
     ]
    }
   ],
   "source": [
    "#user_logs_df = load_df(\"/media/andraa/10160545101605451/kaggle/WSDM-kaggle/data/user_logs.csv\")\n",
    "sample_submission_zero = load_df(\"/media/andraa/10160545101605451/kaggle/WSDM-kaggle/data/sample_submission_zero.csv\")"
   ]
  },
  {
   "cell_type": "code",
   "execution_count": 11,
   "metadata": {},
   "outputs": [
    {
     "data": {
      "text/html": [
       "<div>\n",
       "<table border=\"1\" class=\"dataframe\">\n",
       "  <thead>\n",
       "    <tr style=\"text-align: right;\">\n",
       "      <th></th>\n",
       "      <th>msno</th>\n",
       "    </tr>\n",
       "    <tr>\n",
       "      <th>is_churn</th>\n",
       "      <th></th>\n",
       "    </tr>\n",
       "  </thead>\n",
       "  <tbody>\n",
       "    <tr>\n",
       "      <th>0</th>\n",
       "      <td>929460</td>\n",
       "    </tr>\n",
       "    <tr>\n",
       "      <th>1</th>\n",
       "      <td>63471</td>\n",
       "    </tr>\n",
       "  </tbody>\n",
       "</table>\n",
       "</div>"
      ],
      "text/plain": [
       "            msno\n",
       "is_churn        \n",
       "0         929460\n",
       "1          63471"
      ]
     },
     "execution_count": 11,
     "metadata": {},
     "output_type": "execute_result"
    }
   ],
   "source": [
    "# see how many users overlap between train_df and sample_submission_zero(test)\n",
    "\n",
    "# compute how many are churn and how many are not in the train\n",
    "train_df.groupby(\"is_churn\").count()\n",
    "\n"
   ]
  },
  {
   "cell_type": "code",
   "execution_count": 10,
   "metadata": {},
   "outputs": [
    {
     "data": {
      "text/plain": [
       "881701"
      ]
     },
     "execution_count": 10,
     "metadata": {},
     "output_type": "execute_result"
    }
   ],
   "source": [
    "# compute the set of users in both test and train\n",
    "len(set(train_df[\"msno\"]).intersection(set(sample_submission_zero[\"msno\"])))\n"
   ]
  },
  {
   "cell_type": "code",
   "execution_count": 13,
   "metadata": {},
   "outputs": [
    {
     "data": {
      "text/plain": [
       "2363626"
      ]
     },
     "execution_count": 13,
     "metadata": {},
     "output_type": "execute_result"
    }
   ],
   "source": [
    "len(transactions_df[\"msno\"].unique())"
   ]
  },
  {
   "cell_type": "code",
   "execution_count": 5,
   "metadata": {},
   "outputs": [
    {
     "data": {
      "text/plain": [
       "msno                            0\n",
       "city                            0\n",
       "bd                              0\n",
       "gender                    3354778\n",
       "registered_via                  0\n",
       "registration_init_time          0\n",
       "expiration_date                 0\n",
       "dtype: int64"
      ]
     },
     "execution_count": 5,
     "metadata": {},
     "output_type": "execute_result"
    }
   ],
   "source": [
    "members_df.isnull().sum()"
   ]
  },
  {
   "cell_type": "code",
   "execution_count": 6,
   "metadata": {},
   "outputs": [
    {
     "data": {
      "text/plain": [
       "msno                      0\n",
       "payment_method_id         0\n",
       "payment_plan_days         0\n",
       "plan_list_price           0\n",
       "actual_amount_paid        0\n",
       "is_auto_renew             0\n",
       "transaction_date          0\n",
       "membership_expire_date    0\n",
       "is_cancel                 0\n",
       "dtype: int64"
      ]
     },
     "execution_count": 6,
     "metadata": {},
     "output_type": "execute_result"
    }
   ],
   "source": [
    "transactions_df.isnull().sum()"
   ]
  },
  {
   "cell_type": "code",
   "execution_count": 32,
   "metadata": {},
   "outputs": [
    {
     "data": {
      "text/html": [
       "<div>\n",
       "<table border=\"1\" class=\"dataframe\">\n",
       "  <thead>\n",
       "    <tr style=\"text-align: right;\">\n",
       "      <th></th>\n",
       "      <th>payment_method_id</th>\n",
       "      <th>payment_plan_days</th>\n",
       "      <th>plan_list_price</th>\n",
       "      <th>actual_amount_paid</th>\n",
       "      <th>is_auto_renew</th>\n",
       "      <th>transaction_date</th>\n",
       "      <th>membership_expire_date</th>\n",
       "      <th>is_cancel</th>\n",
       "    </tr>\n",
       "    <tr>\n",
       "      <th>msno</th>\n",
       "      <th></th>\n",
       "      <th></th>\n",
       "      <th></th>\n",
       "      <th></th>\n",
       "      <th></th>\n",
       "      <th></th>\n",
       "      <th></th>\n",
       "      <th></th>\n",
       "    </tr>\n",
       "  </thead>\n",
       "  <tbody>\n",
       "    <tr>\n",
       "      <th>+++FOrTS7ab3tIgIh8eWwX4FqRv8w/FoiOuyXsFvphY=</th>\n",
       "      <td>1</td>\n",
       "      <td>1</td>\n",
       "      <td>1</td>\n",
       "      <td>1</td>\n",
       "      <td>1</td>\n",
       "      <td>1</td>\n",
       "      <td>1</td>\n",
       "      <td>1</td>\n",
       "    </tr>\n",
       "    <tr>\n",
       "      <th>+++IZseRRiQS9aaSkH6cMYU6bGDcxUieAi/tH67sC5s=</th>\n",
       "      <td>1</td>\n",
       "      <td>1</td>\n",
       "      <td>1</td>\n",
       "      <td>1</td>\n",
       "      <td>1</td>\n",
       "      <td>1</td>\n",
       "      <td>1</td>\n",
       "      <td>1</td>\n",
       "    </tr>\n",
       "    <tr>\n",
       "      <th>+++hVY1rZox/33YtvDgmKA2Frg/2qhkz12B9ylCvh8o=</th>\n",
       "      <td>4</td>\n",
       "      <td>4</td>\n",
       "      <td>4</td>\n",
       "      <td>4</td>\n",
       "      <td>4</td>\n",
       "      <td>4</td>\n",
       "      <td>4</td>\n",
       "      <td>4</td>\n",
       "    </tr>\n",
       "    <tr>\n",
       "      <th>+++l/EXNMLTijfLBa8p2TUVVVp2aFGSuUI/h7mLmthw=</th>\n",
       "      <td>19</td>\n",
       "      <td>19</td>\n",
       "      <td>19</td>\n",
       "      <td>19</td>\n",
       "      <td>19</td>\n",
       "      <td>19</td>\n",
       "      <td>19</td>\n",
       "      <td>19</td>\n",
       "    </tr>\n",
       "    <tr>\n",
       "      <th>+++snpr7pmobhLKUgSHTv/mpkqgBT0tQJ0zQj6qKrqc=</th>\n",
       "      <td>26</td>\n",
       "      <td>26</td>\n",
       "      <td>26</td>\n",
       "      <td>26</td>\n",
       "      <td>26</td>\n",
       "      <td>26</td>\n",
       "      <td>26</td>\n",
       "      <td>26</td>\n",
       "    </tr>\n",
       "    <tr>\n",
       "      <th>++/9R3sX37CjxbY/AaGvbwr3QkwElKBCtSvVzhCBDOk=</th>\n",
       "      <td>12</td>\n",
       "      <td>12</td>\n",
       "      <td>12</td>\n",
       "      <td>12</td>\n",
       "      <td>12</td>\n",
       "      <td>12</td>\n",
       "      <td>12</td>\n",
       "      <td>12</td>\n",
       "    </tr>\n",
       "    <tr>\n",
       "      <th>++/Gw1B9K+XOlB3hLTloeUK2QlCa2m+BJ8TrzGf7djI=</th>\n",
       "      <td>9</td>\n",
       "      <td>9</td>\n",
       "      <td>9</td>\n",
       "      <td>9</td>\n",
       "      <td>9</td>\n",
       "      <td>9</td>\n",
       "      <td>9</td>\n",
       "      <td>9</td>\n",
       "    </tr>\n",
       "    <tr>\n",
       "      <th>++/TR7WI15q2ZCtOXmoap7jR+kEhbMVE5swOqsfqpqI=</th>\n",
       "      <td>9</td>\n",
       "      <td>9</td>\n",
       "      <td>9</td>\n",
       "      <td>9</td>\n",
       "      <td>9</td>\n",
       "      <td>9</td>\n",
       "      <td>9</td>\n",
       "      <td>9</td>\n",
       "    </tr>\n",
       "    <tr>\n",
       "      <th>++/UDNo9DLrxT8QVGiDi1OnWfczAdEwThaVyD0fXO50=</th>\n",
       "      <td>19</td>\n",
       "      <td>19</td>\n",
       "      <td>19</td>\n",
       "      <td>19</td>\n",
       "      <td>19</td>\n",
       "      <td>19</td>\n",
       "      <td>19</td>\n",
       "      <td>19</td>\n",
       "    </tr>\n",
       "    <tr>\n",
       "      <th>++/ZHqwUNa7U21Qz+zqteiXlZapxey86l6eEorrak/g=</th>\n",
       "      <td>21</td>\n",
       "      <td>21</td>\n",
       "      <td>21</td>\n",
       "      <td>21</td>\n",
       "      <td>21</td>\n",
       "      <td>21</td>\n",
       "      <td>21</td>\n",
       "      <td>21</td>\n",
       "    </tr>\n",
       "    <tr>\n",
       "      <th>++/gTmVgKUbNFmsTiriZdWV1uZIrLXCUiEWN0fEU6BM=</th>\n",
       "      <td>5</td>\n",
       "      <td>5</td>\n",
       "      <td>5</td>\n",
       "      <td>5</td>\n",
       "      <td>5</td>\n",
       "      <td>5</td>\n",
       "      <td>5</td>\n",
       "      <td>5</td>\n",
       "    </tr>\n",
       "    <tr>\n",
       "      <th>++/imsKMXignukHBIRfOhocobbR8Qk1Ew5mhjOCJg5A=</th>\n",
       "      <td>1</td>\n",
       "      <td>1</td>\n",
       "      <td>1</td>\n",
       "      <td>1</td>\n",
       "      <td>1</td>\n",
       "      <td>1</td>\n",
       "      <td>1</td>\n",
       "      <td>1</td>\n",
       "    </tr>\n",
       "    <tr>\n",
       "      <th>++0+IdHga8fCSioOVpU8K7y4Asw8AveIApVH2r9q9yY=</th>\n",
       "      <td>1</td>\n",
       "      <td>1</td>\n",
       "      <td>1</td>\n",
       "      <td>1</td>\n",
       "      <td>1</td>\n",
       "      <td>1</td>\n",
       "      <td>1</td>\n",
       "      <td>1</td>\n",
       "    </tr>\n",
       "    <tr>\n",
       "      <th>++0/NopttBsaAn6qHZA2AWWrDg7Me7UOMs1vsyo4tSI=</th>\n",
       "      <td>12</td>\n",
       "      <td>12</td>\n",
       "      <td>12</td>\n",
       "      <td>12</td>\n",
       "      <td>12</td>\n",
       "      <td>12</td>\n",
       "      <td>12</td>\n",
       "      <td>12</td>\n",
       "    </tr>\n",
       "    <tr>\n",
       "      <th>++02XbtviomSxcIBUHMOiJkjRxdicTXSfiVqLdsr5lo=</th>\n",
       "      <td>1</td>\n",
       "      <td>1</td>\n",
       "      <td>1</td>\n",
       "      <td>1</td>\n",
       "      <td>1</td>\n",
       "      <td>1</td>\n",
       "      <td>1</td>\n",
       "      <td>1</td>\n",
       "    </tr>\n",
       "    <tr>\n",
       "      <th>++096narOxHnDPtbtUtB4WDqDy8EJacQypdqDYBHmmY=</th>\n",
       "      <td>1</td>\n",
       "      <td>1</td>\n",
       "      <td>1</td>\n",
       "      <td>1</td>\n",
       "      <td>1</td>\n",
       "      <td>1</td>\n",
       "      <td>1</td>\n",
       "      <td>1</td>\n",
       "    </tr>\n",
       "    <tr>\n",
       "      <th>++0BJXY8tpirgIhJR14LDM1pnaRosjD1mdO1mIKxlJA=</th>\n",
       "      <td>16</td>\n",
       "      <td>16</td>\n",
       "      <td>16</td>\n",
       "      <td>16</td>\n",
       "      <td>16</td>\n",
       "      <td>16</td>\n",
       "      <td>16</td>\n",
       "      <td>16</td>\n",
       "    </tr>\n",
       "    <tr>\n",
       "      <th>++0EzISdtKY48Z0GY62jer/LFQwrNIAbADdtU5xStGY=</th>\n",
       "      <td>6</td>\n",
       "      <td>6</td>\n",
       "      <td>6</td>\n",
       "      <td>6</td>\n",
       "      <td>6</td>\n",
       "      <td>6</td>\n",
       "      <td>6</td>\n",
       "      <td>6</td>\n",
       "    </tr>\n",
       "    <tr>\n",
       "      <th>++0GCV3WGMjibrwCnDuVZXMoIxs1mnMRaD7rFJFU2Ho=</th>\n",
       "      <td>1</td>\n",
       "      <td>1</td>\n",
       "      <td>1</td>\n",
       "      <td>1</td>\n",
       "      <td>1</td>\n",
       "      <td>1</td>\n",
       "      <td>1</td>\n",
       "      <td>1</td>\n",
       "    </tr>\n",
       "    <tr>\n",
       "      <th>++0JQqGo/czgqG5qCY31TYkzV7WUMf2QWAS+OeIs//o=</th>\n",
       "      <td>1</td>\n",
       "      <td>1</td>\n",
       "      <td>1</td>\n",
       "      <td>1</td>\n",
       "      <td>1</td>\n",
       "      <td>1</td>\n",
       "      <td>1</td>\n",
       "      <td>1</td>\n",
       "    </tr>\n",
       "    <tr>\n",
       "      <th>++0KpReZV9DjNUlP6aQhK3MDLWaxbA6fvZKh4UaFc3w=</th>\n",
       "      <td>2</td>\n",
       "      <td>2</td>\n",
       "      <td>2</td>\n",
       "      <td>2</td>\n",
       "      <td>2</td>\n",
       "      <td>2</td>\n",
       "      <td>2</td>\n",
       "      <td>2</td>\n",
       "    </tr>\n",
       "    <tr>\n",
       "      <th>++0MHbl6tWtIajj1II8WXoqmt8HJyg8qdF7HFXqZsbs=</th>\n",
       "      <td>1</td>\n",
       "      <td>1</td>\n",
       "      <td>1</td>\n",
       "      <td>1</td>\n",
       "      <td>1</td>\n",
       "      <td>1</td>\n",
       "      <td>1</td>\n",
       "      <td>1</td>\n",
       "    </tr>\n",
       "    <tr>\n",
       "      <th>++0XxUiOHZeYOgVDnJlFiXIp3Y7l+x4NLlaSEMOBrFI=</th>\n",
       "      <td>1</td>\n",
       "      <td>1</td>\n",
       "      <td>1</td>\n",
       "      <td>1</td>\n",
       "      <td>1</td>\n",
       "      <td>1</td>\n",
       "      <td>1</td>\n",
       "      <td>1</td>\n",
       "    </tr>\n",
       "    <tr>\n",
       "      <th>++0nOC7BmrUTtcSboRORfg6ZXTajnBDt1f/SEgH6ONo=</th>\n",
       "      <td>7</td>\n",
       "      <td>7</td>\n",
       "      <td>7</td>\n",
       "      <td>7</td>\n",
       "      <td>7</td>\n",
       "      <td>7</td>\n",
       "      <td>7</td>\n",
       "      <td>7</td>\n",
       "    </tr>\n",
       "    <tr>\n",
       "      <th>++0t0Uy2D3r1pRVxg28G3r3l5PfhFlCPMGElwHqbYL8=</th>\n",
       "      <td>1</td>\n",
       "      <td>1</td>\n",
       "      <td>1</td>\n",
       "      <td>1</td>\n",
       "      <td>1</td>\n",
       "      <td>1</td>\n",
       "      <td>1</td>\n",
       "      <td>1</td>\n",
       "    </tr>\n",
       "    <tr>\n",
       "      <th>++0wqjjQge1mBBe5r4ciHGKwtF/m322zkra7CK8I+Mw=</th>\n",
       "      <td>16</td>\n",
       "      <td>16</td>\n",
       "      <td>16</td>\n",
       "      <td>16</td>\n",
       "      <td>16</td>\n",
       "      <td>16</td>\n",
       "      <td>16</td>\n",
       "      <td>16</td>\n",
       "    </tr>\n",
       "    <tr>\n",
       "      <th>++1G0wVY14Lp0VXak1ymLhPUdXPSFJVBnjWwzGxBKJs=</th>\n",
       "      <td>18</td>\n",
       "      <td>18</td>\n",
       "      <td>18</td>\n",
       "      <td>18</td>\n",
       "      <td>18</td>\n",
       "      <td>18</td>\n",
       "      <td>18</td>\n",
       "      <td>18</td>\n",
       "    </tr>\n",
       "    <tr>\n",
       "      <th>++1GCIyXZO7834NjDKmcK1lBVLQi9PsN6sOC7wfW+8g=</th>\n",
       "      <td>8</td>\n",
       "      <td>8</td>\n",
       "      <td>8</td>\n",
       "      <td>8</td>\n",
       "      <td>8</td>\n",
       "      <td>8</td>\n",
       "      <td>8</td>\n",
       "      <td>8</td>\n",
       "    </tr>\n",
       "    <tr>\n",
       "      <th>++1SsMUpPBTruO9rzPk9p/OpgMorz3TzRd1howM1fqw=</th>\n",
       "      <td>2</td>\n",
       "      <td>2</td>\n",
       "      <td>2</td>\n",
       "      <td>2</td>\n",
       "      <td>2</td>\n",
       "      <td>2</td>\n",
       "      <td>2</td>\n",
       "      <td>2</td>\n",
       "    </tr>\n",
       "    <tr>\n",
       "      <th>++1TnybRWMiv1YN2UW5hyicLSm3AhDaU/89lFkZC//8=</th>\n",
       "      <td>2</td>\n",
       "      <td>2</td>\n",
       "      <td>2</td>\n",
       "      <td>2</td>\n",
       "      <td>2</td>\n",
       "      <td>2</td>\n",
       "      <td>2</td>\n",
       "      <td>2</td>\n",
       "    </tr>\n",
       "    <tr>\n",
       "      <th>...</th>\n",
       "      <td>...</td>\n",
       "      <td>...</td>\n",
       "      <td>...</td>\n",
       "      <td>...</td>\n",
       "      <td>...</td>\n",
       "      <td>...</td>\n",
       "      <td>...</td>\n",
       "      <td>...</td>\n",
       "    </tr>\n",
       "    <tr>\n",
       "      <th>zzwlIVmSuehTevzOi+WkcC7b3+MBYDiE4qybszTyhII=</th>\n",
       "      <td>11</td>\n",
       "      <td>11</td>\n",
       "      <td>11</td>\n",
       "      <td>11</td>\n",
       "      <td>11</td>\n",
       "      <td>11</td>\n",
       "      <td>11</td>\n",
       "      <td>11</td>\n",
       "    </tr>\n",
       "    <tr>\n",
       "      <th>zzwqRwQTk9XF8Z/sApLjZm/QD6A08kmdFfPBGi8xIGE=</th>\n",
       "      <td>1</td>\n",
       "      <td>1</td>\n",
       "      <td>1</td>\n",
       "      <td>1</td>\n",
       "      <td>1</td>\n",
       "      <td>1</td>\n",
       "      <td>1</td>\n",
       "      <td>1</td>\n",
       "    </tr>\n",
       "    <tr>\n",
       "      <th>zzwsW1MnZalh6V5BwYE+V6hFWyKJYOf+rFd+SWVXxp8=</th>\n",
       "      <td>18</td>\n",
       "      <td>18</td>\n",
       "      <td>18</td>\n",
       "      <td>18</td>\n",
       "      <td>18</td>\n",
       "      <td>18</td>\n",
       "      <td>18</td>\n",
       "      <td>18</td>\n",
       "    </tr>\n",
       "    <tr>\n",
       "      <th>zzx1qgX8R9EmT8PAn4/KyQ6s7PuLYTfR8kUCABiCW9E=</th>\n",
       "      <td>7</td>\n",
       "      <td>7</td>\n",
       "      <td>7</td>\n",
       "      <td>7</td>\n",
       "      <td>7</td>\n",
       "      <td>7</td>\n",
       "      <td>7</td>\n",
       "      <td>7</td>\n",
       "    </tr>\n",
       "    <tr>\n",
       "      <th>zzx4MmvaZjgHvBcOfqPX4PZPpo1FBuOrCbJMn+g9g7E=</th>\n",
       "      <td>9</td>\n",
       "      <td>9</td>\n",
       "      <td>9</td>\n",
       "      <td>9</td>\n",
       "      <td>9</td>\n",
       "      <td>9</td>\n",
       "      <td>9</td>\n",
       "      <td>9</td>\n",
       "    </tr>\n",
       "    <tr>\n",
       "      <th>zzx4hKiyR9XFEGAr7SAjcCPbKJCZ+IqegWL7dPjPwZk=</th>\n",
       "      <td>27</td>\n",
       "      <td>27</td>\n",
       "      <td>27</td>\n",
       "      <td>27</td>\n",
       "      <td>27</td>\n",
       "      <td>27</td>\n",
       "      <td>27</td>\n",
       "      <td>27</td>\n",
       "    </tr>\n",
       "    <tr>\n",
       "      <th>zzx7wcys2Nha6yP2Skjs+R1/JNAfEuAWUaAp0qsV2Cg=</th>\n",
       "      <td>25</td>\n",
       "      <td>25</td>\n",
       "      <td>25</td>\n",
       "      <td>25</td>\n",
       "      <td>25</td>\n",
       "      <td>25</td>\n",
       "      <td>25</td>\n",
       "      <td>25</td>\n",
       "    </tr>\n",
       "    <tr>\n",
       "      <th>zzx9r9Hc2SzisoCkp5i+oDZqRURAwMwVggtTafCMAvE=</th>\n",
       "      <td>1</td>\n",
       "      <td>1</td>\n",
       "      <td>1</td>\n",
       "      <td>1</td>\n",
       "      <td>1</td>\n",
       "      <td>1</td>\n",
       "      <td>1</td>\n",
       "      <td>1</td>\n",
       "    </tr>\n",
       "    <tr>\n",
       "      <th>zzxPS8+wCuE4HE85EDp4WBHgS5l548vfwXJbQq1HZ9I=</th>\n",
       "      <td>19</td>\n",
       "      <td>19</td>\n",
       "      <td>19</td>\n",
       "      <td>19</td>\n",
       "      <td>19</td>\n",
       "      <td>19</td>\n",
       "      <td>19</td>\n",
       "      <td>19</td>\n",
       "    </tr>\n",
       "    <tr>\n",
       "      <th>zzxQsz+IFQArKdmrVoolrDr1UI2d2NuI5vCP2puPQdk=</th>\n",
       "      <td>2</td>\n",
       "      <td>2</td>\n",
       "      <td>2</td>\n",
       "      <td>2</td>\n",
       "      <td>2</td>\n",
       "      <td>2</td>\n",
       "      <td>2</td>\n",
       "      <td>2</td>\n",
       "    </tr>\n",
       "    <tr>\n",
       "      <th>zzxZeMFx2fjfKZigMnJa2w0EmloDbm8+8nTf/o/00GY=</th>\n",
       "      <td>26</td>\n",
       "      <td>26</td>\n",
       "      <td>26</td>\n",
       "      <td>26</td>\n",
       "      <td>26</td>\n",
       "      <td>26</td>\n",
       "      <td>26</td>\n",
       "      <td>26</td>\n",
       "    </tr>\n",
       "    <tr>\n",
       "      <th>zzxa/wrL2Ak1YxYqv218iF0XehDkxTzWkdaeXjx3jw0=</th>\n",
       "      <td>3</td>\n",
       "      <td>3</td>\n",
       "      <td>3</td>\n",
       "      <td>3</td>\n",
       "      <td>3</td>\n",
       "      <td>3</td>\n",
       "      <td>3</td>\n",
       "      <td>3</td>\n",
       "    </tr>\n",
       "    <tr>\n",
       "      <th>zzxgQdCEh6RvCKlnIEyvxn315Q2L01DXNmoTaCqg96Q=</th>\n",
       "      <td>1</td>\n",
       "      <td>1</td>\n",
       "      <td>1</td>\n",
       "      <td>1</td>\n",
       "      <td>1</td>\n",
       "      <td>1</td>\n",
       "      <td>1</td>\n",
       "      <td>1</td>\n",
       "    </tr>\n",
       "    <tr>\n",
       "      <th>zzxi7n5xoTYo9Q3VTygLWvl/rBDcexwaeAry0yK7Q0E=</th>\n",
       "      <td>4</td>\n",
       "      <td>4</td>\n",
       "      <td>4</td>\n",
       "      <td>4</td>\n",
       "      <td>4</td>\n",
       "      <td>4</td>\n",
       "      <td>4</td>\n",
       "      <td>4</td>\n",
       "    </tr>\n",
       "    <tr>\n",
       "      <th>zzxp2iylK+x/+BUSMoAbrrmgUngDjMonM/+HSm1XgOo=</th>\n",
       "      <td>20</td>\n",
       "      <td>20</td>\n",
       "      <td>20</td>\n",
       "      <td>20</td>\n",
       "      <td>20</td>\n",
       "      <td>20</td>\n",
       "      <td>20</td>\n",
       "      <td>20</td>\n",
       "    </tr>\n",
       "    <tr>\n",
       "      <th>zzxqpgPX1epGyR3SVRKb3XitWdt+JqDURxV5ea1D7Cg=</th>\n",
       "      <td>21</td>\n",
       "      <td>21</td>\n",
       "      <td>21</td>\n",
       "      <td>21</td>\n",
       "      <td>21</td>\n",
       "      <td>21</td>\n",
       "      <td>21</td>\n",
       "      <td>21</td>\n",
       "    </tr>\n",
       "    <tr>\n",
       "      <th>zzy/TTClecSFRMLsbTlCSNX9PoqQJXmSO/uBWgOTKNk=</th>\n",
       "      <td>1</td>\n",
       "      <td>1</td>\n",
       "      <td>1</td>\n",
       "      <td>1</td>\n",
       "      <td>1</td>\n",
       "      <td>1</td>\n",
       "      <td>1</td>\n",
       "      <td>1</td>\n",
       "    </tr>\n",
       "    <tr>\n",
       "      <th>zzy4aXyTi7LkfQ77Z6PzRlJsrSOKxM21y4BSujGeo8k=</th>\n",
       "      <td>3</td>\n",
       "      <td>3</td>\n",
       "      <td>3</td>\n",
       "      <td>3</td>\n",
       "      <td>3</td>\n",
       "      <td>3</td>\n",
       "      <td>3</td>\n",
       "      <td>3</td>\n",
       "    </tr>\n",
       "    <tr>\n",
       "      <th>zzy7iqSpfcRq7R4hmKKuhI+CJRs79a6pteqEggpiNO0=</th>\n",
       "      <td>5</td>\n",
       "      <td>5</td>\n",
       "      <td>5</td>\n",
       "      <td>5</td>\n",
       "      <td>5</td>\n",
       "      <td>5</td>\n",
       "      <td>5</td>\n",
       "      <td>5</td>\n",
       "    </tr>\n",
       "    <tr>\n",
       "      <th>zzyHq6TK2+cBkeGFUHvh12Z7UxFZiSM7dOOSllSBPDw=</th>\n",
       "      <td>23</td>\n",
       "      <td>23</td>\n",
       "      <td>23</td>\n",
       "      <td>23</td>\n",
       "      <td>23</td>\n",
       "      <td>23</td>\n",
       "      <td>23</td>\n",
       "      <td>23</td>\n",
       "    </tr>\n",
       "    <tr>\n",
       "      <th>zzyuTnRVQQGxs0UN8qzU2Pedh3z8F7UeoiQpNhJRomM=</th>\n",
       "      <td>17</td>\n",
       "      <td>17</td>\n",
       "      <td>17</td>\n",
       "      <td>17</td>\n",
       "      <td>17</td>\n",
       "      <td>17</td>\n",
       "      <td>17</td>\n",
       "      <td>17</td>\n",
       "    </tr>\n",
       "    <tr>\n",
       "      <th>zzz/5bh+8EOZTpIRKWiiaAwEH4uYwfDUaiahJlvABiQ=</th>\n",
       "      <td>8</td>\n",
       "      <td>8</td>\n",
       "      <td>8</td>\n",
       "      <td>8</td>\n",
       "      <td>8</td>\n",
       "      <td>8</td>\n",
       "      <td>8</td>\n",
       "      <td>8</td>\n",
       "    </tr>\n",
       "    <tr>\n",
       "      <th>zzz1Dc3P9s53HAowRTrm3fNsWju5yeN4YBfNDq7Z99Q=</th>\n",
       "      <td>16</td>\n",
       "      <td>16</td>\n",
       "      <td>16</td>\n",
       "      <td>16</td>\n",
       "      <td>16</td>\n",
       "      <td>16</td>\n",
       "      <td>16</td>\n",
       "      <td>16</td>\n",
       "    </tr>\n",
       "    <tr>\n",
       "      <th>zzz4xr5LLzoxUqD6LfKiieCt8Or4dUWFQ0RA5gmkx8I=</th>\n",
       "      <td>26</td>\n",
       "      <td>26</td>\n",
       "      <td>26</td>\n",
       "      <td>26</td>\n",
       "      <td>26</td>\n",
       "      <td>26</td>\n",
       "      <td>26</td>\n",
       "      <td>26</td>\n",
       "    </tr>\n",
       "    <tr>\n",
       "      <th>zzz672Xpk1wKox75rJ5gak43ZkFQUV1f7Xek3jnPeRM=</th>\n",
       "      <td>1</td>\n",
       "      <td>1</td>\n",
       "      <td>1</td>\n",
       "      <td>1</td>\n",
       "      <td>1</td>\n",
       "      <td>1</td>\n",
       "      <td>1</td>\n",
       "      <td>1</td>\n",
       "    </tr>\n",
       "    <tr>\n",
       "      <th>zzz9+ZF4+GMyt63oU8xfjo1EkvRqH5OINlES0RUJI6I=</th>\n",
       "      <td>14</td>\n",
       "      <td>14</td>\n",
       "      <td>14</td>\n",
       "      <td>14</td>\n",
       "      <td>14</td>\n",
       "      <td>14</td>\n",
       "      <td>14</td>\n",
       "      <td>14</td>\n",
       "    </tr>\n",
       "    <tr>\n",
       "      <th>zzzF1KsGfHH3qI6qiSNSXC35UXmVKMVFdxkp7xmDMc0=</th>\n",
       "      <td>1</td>\n",
       "      <td>1</td>\n",
       "      <td>1</td>\n",
       "      <td>1</td>\n",
       "      <td>1</td>\n",
       "      <td>1</td>\n",
       "      <td>1</td>\n",
       "      <td>1</td>\n",
       "    </tr>\n",
       "    <tr>\n",
       "      <th>zzzN9thH22os1dRS0VHReY/8FTfGHOi86//d+wGGFsQ=</th>\n",
       "      <td>12</td>\n",
       "      <td>12</td>\n",
       "      <td>12</td>\n",
       "      <td>12</td>\n",
       "      <td>12</td>\n",
       "      <td>12</td>\n",
       "      <td>12</td>\n",
       "      <td>12</td>\n",
       "    </tr>\n",
       "    <tr>\n",
       "      <th>zzztsqkufVj9DPVJDM3FxDkhlbCL5z4aiYxgPSGkIK4=</th>\n",
       "      <td>1</td>\n",
       "      <td>1</td>\n",
       "      <td>1</td>\n",
       "      <td>1</td>\n",
       "      <td>1</td>\n",
       "      <td>1</td>\n",
       "      <td>1</td>\n",
       "      <td>1</td>\n",
       "    </tr>\n",
       "    <tr>\n",
       "      <th>zzzyOgMk9MljCerbCCYrVtvu85aSCiy7yCMjAEgNYMs=</th>\n",
       "      <td>1</td>\n",
       "      <td>1</td>\n",
       "      <td>1</td>\n",
       "      <td>1</td>\n",
       "      <td>1</td>\n",
       "      <td>1</td>\n",
       "      <td>1</td>\n",
       "      <td>1</td>\n",
       "    </tr>\n",
       "  </tbody>\n",
       "</table>\n",
       "<p>2363626 rows × 8 columns</p>\n",
       "</div>"
      ],
      "text/plain": [
       "                                              payment_method_id  \\\n",
       "msno                                                              \n",
       "+++FOrTS7ab3tIgIh8eWwX4FqRv8w/FoiOuyXsFvphY=                  1   \n",
       "+++IZseRRiQS9aaSkH6cMYU6bGDcxUieAi/tH67sC5s=                  1   \n",
       "+++hVY1rZox/33YtvDgmKA2Frg/2qhkz12B9ylCvh8o=                  4   \n",
       "+++l/EXNMLTijfLBa8p2TUVVVp2aFGSuUI/h7mLmthw=                 19   \n",
       "+++snpr7pmobhLKUgSHTv/mpkqgBT0tQJ0zQj6qKrqc=                 26   \n",
       "++/9R3sX37CjxbY/AaGvbwr3QkwElKBCtSvVzhCBDOk=                 12   \n",
       "++/Gw1B9K+XOlB3hLTloeUK2QlCa2m+BJ8TrzGf7djI=                  9   \n",
       "++/TR7WI15q2ZCtOXmoap7jR+kEhbMVE5swOqsfqpqI=                  9   \n",
       "++/UDNo9DLrxT8QVGiDi1OnWfczAdEwThaVyD0fXO50=                 19   \n",
       "++/ZHqwUNa7U21Qz+zqteiXlZapxey86l6eEorrak/g=                 21   \n",
       "++/gTmVgKUbNFmsTiriZdWV1uZIrLXCUiEWN0fEU6BM=                  5   \n",
       "++/imsKMXignukHBIRfOhocobbR8Qk1Ew5mhjOCJg5A=                  1   \n",
       "++0+IdHga8fCSioOVpU8K7y4Asw8AveIApVH2r9q9yY=                  1   \n",
       "++0/NopttBsaAn6qHZA2AWWrDg7Me7UOMs1vsyo4tSI=                 12   \n",
       "++02XbtviomSxcIBUHMOiJkjRxdicTXSfiVqLdsr5lo=                  1   \n",
       "++096narOxHnDPtbtUtB4WDqDy8EJacQypdqDYBHmmY=                  1   \n",
       "++0BJXY8tpirgIhJR14LDM1pnaRosjD1mdO1mIKxlJA=                 16   \n",
       "++0EzISdtKY48Z0GY62jer/LFQwrNIAbADdtU5xStGY=                  6   \n",
       "++0GCV3WGMjibrwCnDuVZXMoIxs1mnMRaD7rFJFU2Ho=                  1   \n",
       "++0JQqGo/czgqG5qCY31TYkzV7WUMf2QWAS+OeIs//o=                  1   \n",
       "++0KpReZV9DjNUlP6aQhK3MDLWaxbA6fvZKh4UaFc3w=                  2   \n",
       "++0MHbl6tWtIajj1II8WXoqmt8HJyg8qdF7HFXqZsbs=                  1   \n",
       "++0XxUiOHZeYOgVDnJlFiXIp3Y7l+x4NLlaSEMOBrFI=                  1   \n",
       "++0nOC7BmrUTtcSboRORfg6ZXTajnBDt1f/SEgH6ONo=                  7   \n",
       "++0t0Uy2D3r1pRVxg28G3r3l5PfhFlCPMGElwHqbYL8=                  1   \n",
       "++0wqjjQge1mBBe5r4ciHGKwtF/m322zkra7CK8I+Mw=                 16   \n",
       "++1G0wVY14Lp0VXak1ymLhPUdXPSFJVBnjWwzGxBKJs=                 18   \n",
       "++1GCIyXZO7834NjDKmcK1lBVLQi9PsN6sOC7wfW+8g=                  8   \n",
       "++1SsMUpPBTruO9rzPk9p/OpgMorz3TzRd1howM1fqw=                  2   \n",
       "++1TnybRWMiv1YN2UW5hyicLSm3AhDaU/89lFkZC//8=                  2   \n",
       "...                                                         ...   \n",
       "zzwlIVmSuehTevzOi+WkcC7b3+MBYDiE4qybszTyhII=                 11   \n",
       "zzwqRwQTk9XF8Z/sApLjZm/QD6A08kmdFfPBGi8xIGE=                  1   \n",
       "zzwsW1MnZalh6V5BwYE+V6hFWyKJYOf+rFd+SWVXxp8=                 18   \n",
       "zzx1qgX8R9EmT8PAn4/KyQ6s7PuLYTfR8kUCABiCW9E=                  7   \n",
       "zzx4MmvaZjgHvBcOfqPX4PZPpo1FBuOrCbJMn+g9g7E=                  9   \n",
       "zzx4hKiyR9XFEGAr7SAjcCPbKJCZ+IqegWL7dPjPwZk=                 27   \n",
       "zzx7wcys2Nha6yP2Skjs+R1/JNAfEuAWUaAp0qsV2Cg=                 25   \n",
       "zzx9r9Hc2SzisoCkp5i+oDZqRURAwMwVggtTafCMAvE=                  1   \n",
       "zzxPS8+wCuE4HE85EDp4WBHgS5l548vfwXJbQq1HZ9I=                 19   \n",
       "zzxQsz+IFQArKdmrVoolrDr1UI2d2NuI5vCP2puPQdk=                  2   \n",
       "zzxZeMFx2fjfKZigMnJa2w0EmloDbm8+8nTf/o/00GY=                 26   \n",
       "zzxa/wrL2Ak1YxYqv218iF0XehDkxTzWkdaeXjx3jw0=                  3   \n",
       "zzxgQdCEh6RvCKlnIEyvxn315Q2L01DXNmoTaCqg96Q=                  1   \n",
       "zzxi7n5xoTYo9Q3VTygLWvl/rBDcexwaeAry0yK7Q0E=                  4   \n",
       "zzxp2iylK+x/+BUSMoAbrrmgUngDjMonM/+HSm1XgOo=                 20   \n",
       "zzxqpgPX1epGyR3SVRKb3XitWdt+JqDURxV5ea1D7Cg=                 21   \n",
       "zzy/TTClecSFRMLsbTlCSNX9PoqQJXmSO/uBWgOTKNk=                  1   \n",
       "zzy4aXyTi7LkfQ77Z6PzRlJsrSOKxM21y4BSujGeo8k=                  3   \n",
       "zzy7iqSpfcRq7R4hmKKuhI+CJRs79a6pteqEggpiNO0=                  5   \n",
       "zzyHq6TK2+cBkeGFUHvh12Z7UxFZiSM7dOOSllSBPDw=                 23   \n",
       "zzyuTnRVQQGxs0UN8qzU2Pedh3z8F7UeoiQpNhJRomM=                 17   \n",
       "zzz/5bh+8EOZTpIRKWiiaAwEH4uYwfDUaiahJlvABiQ=                  8   \n",
       "zzz1Dc3P9s53HAowRTrm3fNsWju5yeN4YBfNDq7Z99Q=                 16   \n",
       "zzz4xr5LLzoxUqD6LfKiieCt8Or4dUWFQ0RA5gmkx8I=                 26   \n",
       "zzz672Xpk1wKox75rJ5gak43ZkFQUV1f7Xek3jnPeRM=                  1   \n",
       "zzz9+ZF4+GMyt63oU8xfjo1EkvRqH5OINlES0RUJI6I=                 14   \n",
       "zzzF1KsGfHH3qI6qiSNSXC35UXmVKMVFdxkp7xmDMc0=                  1   \n",
       "zzzN9thH22os1dRS0VHReY/8FTfGHOi86//d+wGGFsQ=                 12   \n",
       "zzztsqkufVj9DPVJDM3FxDkhlbCL5z4aiYxgPSGkIK4=                  1   \n",
       "zzzyOgMk9MljCerbCCYrVtvu85aSCiy7yCMjAEgNYMs=                  1   \n",
       "\n",
       "                                              payment_plan_days  \\\n",
       "msno                                                              \n",
       "+++FOrTS7ab3tIgIh8eWwX4FqRv8w/FoiOuyXsFvphY=                  1   \n",
       "+++IZseRRiQS9aaSkH6cMYU6bGDcxUieAi/tH67sC5s=                  1   \n",
       "+++hVY1rZox/33YtvDgmKA2Frg/2qhkz12B9ylCvh8o=                  4   \n",
       "+++l/EXNMLTijfLBa8p2TUVVVp2aFGSuUI/h7mLmthw=                 19   \n",
       "+++snpr7pmobhLKUgSHTv/mpkqgBT0tQJ0zQj6qKrqc=                 26   \n",
       "++/9R3sX37CjxbY/AaGvbwr3QkwElKBCtSvVzhCBDOk=                 12   \n",
       "++/Gw1B9K+XOlB3hLTloeUK2QlCa2m+BJ8TrzGf7djI=                  9   \n",
       "++/TR7WI15q2ZCtOXmoap7jR+kEhbMVE5swOqsfqpqI=                  9   \n",
       "++/UDNo9DLrxT8QVGiDi1OnWfczAdEwThaVyD0fXO50=                 19   \n",
       "++/ZHqwUNa7U21Qz+zqteiXlZapxey86l6eEorrak/g=                 21   \n",
       "++/gTmVgKUbNFmsTiriZdWV1uZIrLXCUiEWN0fEU6BM=                  5   \n",
       "++/imsKMXignukHBIRfOhocobbR8Qk1Ew5mhjOCJg5A=                  1   \n",
       "++0+IdHga8fCSioOVpU8K7y4Asw8AveIApVH2r9q9yY=                  1   \n",
       "++0/NopttBsaAn6qHZA2AWWrDg7Me7UOMs1vsyo4tSI=                 12   \n",
       "++02XbtviomSxcIBUHMOiJkjRxdicTXSfiVqLdsr5lo=                  1   \n",
       "++096narOxHnDPtbtUtB4WDqDy8EJacQypdqDYBHmmY=                  1   \n",
       "++0BJXY8tpirgIhJR14LDM1pnaRosjD1mdO1mIKxlJA=                 16   \n",
       "++0EzISdtKY48Z0GY62jer/LFQwrNIAbADdtU5xStGY=                  6   \n",
       "++0GCV3WGMjibrwCnDuVZXMoIxs1mnMRaD7rFJFU2Ho=                  1   \n",
       "++0JQqGo/czgqG5qCY31TYkzV7WUMf2QWAS+OeIs//o=                  1   \n",
       "++0KpReZV9DjNUlP6aQhK3MDLWaxbA6fvZKh4UaFc3w=                  2   \n",
       "++0MHbl6tWtIajj1II8WXoqmt8HJyg8qdF7HFXqZsbs=                  1   \n",
       "++0XxUiOHZeYOgVDnJlFiXIp3Y7l+x4NLlaSEMOBrFI=                  1   \n",
       "++0nOC7BmrUTtcSboRORfg6ZXTajnBDt1f/SEgH6ONo=                  7   \n",
       "++0t0Uy2D3r1pRVxg28G3r3l5PfhFlCPMGElwHqbYL8=                  1   \n",
       "++0wqjjQge1mBBe5r4ciHGKwtF/m322zkra7CK8I+Mw=                 16   \n",
       "++1G0wVY14Lp0VXak1ymLhPUdXPSFJVBnjWwzGxBKJs=                 18   \n",
       "++1GCIyXZO7834NjDKmcK1lBVLQi9PsN6sOC7wfW+8g=                  8   \n",
       "++1SsMUpPBTruO9rzPk9p/OpgMorz3TzRd1howM1fqw=                  2   \n",
       "++1TnybRWMiv1YN2UW5hyicLSm3AhDaU/89lFkZC//8=                  2   \n",
       "...                                                         ...   \n",
       "zzwlIVmSuehTevzOi+WkcC7b3+MBYDiE4qybszTyhII=                 11   \n",
       "zzwqRwQTk9XF8Z/sApLjZm/QD6A08kmdFfPBGi8xIGE=                  1   \n",
       "zzwsW1MnZalh6V5BwYE+V6hFWyKJYOf+rFd+SWVXxp8=                 18   \n",
       "zzx1qgX8R9EmT8PAn4/KyQ6s7PuLYTfR8kUCABiCW9E=                  7   \n",
       "zzx4MmvaZjgHvBcOfqPX4PZPpo1FBuOrCbJMn+g9g7E=                  9   \n",
       "zzx4hKiyR9XFEGAr7SAjcCPbKJCZ+IqegWL7dPjPwZk=                 27   \n",
       "zzx7wcys2Nha6yP2Skjs+R1/JNAfEuAWUaAp0qsV2Cg=                 25   \n",
       "zzx9r9Hc2SzisoCkp5i+oDZqRURAwMwVggtTafCMAvE=                  1   \n",
       "zzxPS8+wCuE4HE85EDp4WBHgS5l548vfwXJbQq1HZ9I=                 19   \n",
       "zzxQsz+IFQArKdmrVoolrDr1UI2d2NuI5vCP2puPQdk=                  2   \n",
       "zzxZeMFx2fjfKZigMnJa2w0EmloDbm8+8nTf/o/00GY=                 26   \n",
       "zzxa/wrL2Ak1YxYqv218iF0XehDkxTzWkdaeXjx3jw0=                  3   \n",
       "zzxgQdCEh6RvCKlnIEyvxn315Q2L01DXNmoTaCqg96Q=                  1   \n",
       "zzxi7n5xoTYo9Q3VTygLWvl/rBDcexwaeAry0yK7Q0E=                  4   \n",
       "zzxp2iylK+x/+BUSMoAbrrmgUngDjMonM/+HSm1XgOo=                 20   \n",
       "zzxqpgPX1epGyR3SVRKb3XitWdt+JqDURxV5ea1D7Cg=                 21   \n",
       "zzy/TTClecSFRMLsbTlCSNX9PoqQJXmSO/uBWgOTKNk=                  1   \n",
       "zzy4aXyTi7LkfQ77Z6PzRlJsrSOKxM21y4BSujGeo8k=                  3   \n",
       "zzy7iqSpfcRq7R4hmKKuhI+CJRs79a6pteqEggpiNO0=                  5   \n",
       "zzyHq6TK2+cBkeGFUHvh12Z7UxFZiSM7dOOSllSBPDw=                 23   \n",
       "zzyuTnRVQQGxs0UN8qzU2Pedh3z8F7UeoiQpNhJRomM=                 17   \n",
       "zzz/5bh+8EOZTpIRKWiiaAwEH4uYwfDUaiahJlvABiQ=                  8   \n",
       "zzz1Dc3P9s53HAowRTrm3fNsWju5yeN4YBfNDq7Z99Q=                 16   \n",
       "zzz4xr5LLzoxUqD6LfKiieCt8Or4dUWFQ0RA5gmkx8I=                 26   \n",
       "zzz672Xpk1wKox75rJ5gak43ZkFQUV1f7Xek3jnPeRM=                  1   \n",
       "zzz9+ZF4+GMyt63oU8xfjo1EkvRqH5OINlES0RUJI6I=                 14   \n",
       "zzzF1KsGfHH3qI6qiSNSXC35UXmVKMVFdxkp7xmDMc0=                  1   \n",
       "zzzN9thH22os1dRS0VHReY/8FTfGHOi86//d+wGGFsQ=                 12   \n",
       "zzztsqkufVj9DPVJDM3FxDkhlbCL5z4aiYxgPSGkIK4=                  1   \n",
       "zzzyOgMk9MljCerbCCYrVtvu85aSCiy7yCMjAEgNYMs=                  1   \n",
       "\n",
       "                                              plan_list_price  \\\n",
       "msno                                                            \n",
       "+++FOrTS7ab3tIgIh8eWwX4FqRv8w/FoiOuyXsFvphY=                1   \n",
       "+++IZseRRiQS9aaSkH6cMYU6bGDcxUieAi/tH67sC5s=                1   \n",
       "+++hVY1rZox/33YtvDgmKA2Frg/2qhkz12B9ylCvh8o=                4   \n",
       "+++l/EXNMLTijfLBa8p2TUVVVp2aFGSuUI/h7mLmthw=               19   \n",
       "+++snpr7pmobhLKUgSHTv/mpkqgBT0tQJ0zQj6qKrqc=               26   \n",
       "++/9R3sX37CjxbY/AaGvbwr3QkwElKBCtSvVzhCBDOk=               12   \n",
       "++/Gw1B9K+XOlB3hLTloeUK2QlCa2m+BJ8TrzGf7djI=                9   \n",
       "++/TR7WI15q2ZCtOXmoap7jR+kEhbMVE5swOqsfqpqI=                9   \n",
       "++/UDNo9DLrxT8QVGiDi1OnWfczAdEwThaVyD0fXO50=               19   \n",
       "++/ZHqwUNa7U21Qz+zqteiXlZapxey86l6eEorrak/g=               21   \n",
       "++/gTmVgKUbNFmsTiriZdWV1uZIrLXCUiEWN0fEU6BM=                5   \n",
       "++/imsKMXignukHBIRfOhocobbR8Qk1Ew5mhjOCJg5A=                1   \n",
       "++0+IdHga8fCSioOVpU8K7y4Asw8AveIApVH2r9q9yY=                1   \n",
       "++0/NopttBsaAn6qHZA2AWWrDg7Me7UOMs1vsyo4tSI=               12   \n",
       "++02XbtviomSxcIBUHMOiJkjRxdicTXSfiVqLdsr5lo=                1   \n",
       "++096narOxHnDPtbtUtB4WDqDy8EJacQypdqDYBHmmY=                1   \n",
       "++0BJXY8tpirgIhJR14LDM1pnaRosjD1mdO1mIKxlJA=               16   \n",
       "++0EzISdtKY48Z0GY62jer/LFQwrNIAbADdtU5xStGY=                6   \n",
       "++0GCV3WGMjibrwCnDuVZXMoIxs1mnMRaD7rFJFU2Ho=                1   \n",
       "++0JQqGo/czgqG5qCY31TYkzV7WUMf2QWAS+OeIs//o=                1   \n",
       "++0KpReZV9DjNUlP6aQhK3MDLWaxbA6fvZKh4UaFc3w=                2   \n",
       "++0MHbl6tWtIajj1II8WXoqmt8HJyg8qdF7HFXqZsbs=                1   \n",
       "++0XxUiOHZeYOgVDnJlFiXIp3Y7l+x4NLlaSEMOBrFI=                1   \n",
       "++0nOC7BmrUTtcSboRORfg6ZXTajnBDt1f/SEgH6ONo=                7   \n",
       "++0t0Uy2D3r1pRVxg28G3r3l5PfhFlCPMGElwHqbYL8=                1   \n",
       "++0wqjjQge1mBBe5r4ciHGKwtF/m322zkra7CK8I+Mw=               16   \n",
       "++1G0wVY14Lp0VXak1ymLhPUdXPSFJVBnjWwzGxBKJs=               18   \n",
       "++1GCIyXZO7834NjDKmcK1lBVLQi9PsN6sOC7wfW+8g=                8   \n",
       "++1SsMUpPBTruO9rzPk9p/OpgMorz3TzRd1howM1fqw=                2   \n",
       "++1TnybRWMiv1YN2UW5hyicLSm3AhDaU/89lFkZC//8=                2   \n",
       "...                                                       ...   \n",
       "zzwlIVmSuehTevzOi+WkcC7b3+MBYDiE4qybszTyhII=               11   \n",
       "zzwqRwQTk9XF8Z/sApLjZm/QD6A08kmdFfPBGi8xIGE=                1   \n",
       "zzwsW1MnZalh6V5BwYE+V6hFWyKJYOf+rFd+SWVXxp8=               18   \n",
       "zzx1qgX8R9EmT8PAn4/KyQ6s7PuLYTfR8kUCABiCW9E=                7   \n",
       "zzx4MmvaZjgHvBcOfqPX4PZPpo1FBuOrCbJMn+g9g7E=                9   \n",
       "zzx4hKiyR9XFEGAr7SAjcCPbKJCZ+IqegWL7dPjPwZk=               27   \n",
       "zzx7wcys2Nha6yP2Skjs+R1/JNAfEuAWUaAp0qsV2Cg=               25   \n",
       "zzx9r9Hc2SzisoCkp5i+oDZqRURAwMwVggtTafCMAvE=                1   \n",
       "zzxPS8+wCuE4HE85EDp4WBHgS5l548vfwXJbQq1HZ9I=               19   \n",
       "zzxQsz+IFQArKdmrVoolrDr1UI2d2NuI5vCP2puPQdk=                2   \n",
       "zzxZeMFx2fjfKZigMnJa2w0EmloDbm8+8nTf/o/00GY=               26   \n",
       "zzxa/wrL2Ak1YxYqv218iF0XehDkxTzWkdaeXjx3jw0=                3   \n",
       "zzxgQdCEh6RvCKlnIEyvxn315Q2L01DXNmoTaCqg96Q=                1   \n",
       "zzxi7n5xoTYo9Q3VTygLWvl/rBDcexwaeAry0yK7Q0E=                4   \n",
       "zzxp2iylK+x/+BUSMoAbrrmgUngDjMonM/+HSm1XgOo=               20   \n",
       "zzxqpgPX1epGyR3SVRKb3XitWdt+JqDURxV5ea1D7Cg=               21   \n",
       "zzy/TTClecSFRMLsbTlCSNX9PoqQJXmSO/uBWgOTKNk=                1   \n",
       "zzy4aXyTi7LkfQ77Z6PzRlJsrSOKxM21y4BSujGeo8k=                3   \n",
       "zzy7iqSpfcRq7R4hmKKuhI+CJRs79a6pteqEggpiNO0=                5   \n",
       "zzyHq6TK2+cBkeGFUHvh12Z7UxFZiSM7dOOSllSBPDw=               23   \n",
       "zzyuTnRVQQGxs0UN8qzU2Pedh3z8F7UeoiQpNhJRomM=               17   \n",
       "zzz/5bh+8EOZTpIRKWiiaAwEH4uYwfDUaiahJlvABiQ=                8   \n",
       "zzz1Dc3P9s53HAowRTrm3fNsWju5yeN4YBfNDq7Z99Q=               16   \n",
       "zzz4xr5LLzoxUqD6LfKiieCt8Or4dUWFQ0RA5gmkx8I=               26   \n",
       "zzz672Xpk1wKox75rJ5gak43ZkFQUV1f7Xek3jnPeRM=                1   \n",
       "zzz9+ZF4+GMyt63oU8xfjo1EkvRqH5OINlES0RUJI6I=               14   \n",
       "zzzF1KsGfHH3qI6qiSNSXC35UXmVKMVFdxkp7xmDMc0=                1   \n",
       "zzzN9thH22os1dRS0VHReY/8FTfGHOi86//d+wGGFsQ=               12   \n",
       "zzztsqkufVj9DPVJDM3FxDkhlbCL5z4aiYxgPSGkIK4=                1   \n",
       "zzzyOgMk9MljCerbCCYrVtvu85aSCiy7yCMjAEgNYMs=                1   \n",
       "\n",
       "                                              actual_amount_paid  \\\n",
       "msno                                                               \n",
       "+++FOrTS7ab3tIgIh8eWwX4FqRv8w/FoiOuyXsFvphY=                   1   \n",
       "+++IZseRRiQS9aaSkH6cMYU6bGDcxUieAi/tH67sC5s=                   1   \n",
       "+++hVY1rZox/33YtvDgmKA2Frg/2qhkz12B9ylCvh8o=                   4   \n",
       "+++l/EXNMLTijfLBa8p2TUVVVp2aFGSuUI/h7mLmthw=                  19   \n",
       "+++snpr7pmobhLKUgSHTv/mpkqgBT0tQJ0zQj6qKrqc=                  26   \n",
       "++/9R3sX37CjxbY/AaGvbwr3QkwElKBCtSvVzhCBDOk=                  12   \n",
       "++/Gw1B9K+XOlB3hLTloeUK2QlCa2m+BJ8TrzGf7djI=                   9   \n",
       "++/TR7WI15q2ZCtOXmoap7jR+kEhbMVE5swOqsfqpqI=                   9   \n",
       "++/UDNo9DLrxT8QVGiDi1OnWfczAdEwThaVyD0fXO50=                  19   \n",
       "++/ZHqwUNa7U21Qz+zqteiXlZapxey86l6eEorrak/g=                  21   \n",
       "++/gTmVgKUbNFmsTiriZdWV1uZIrLXCUiEWN0fEU6BM=                   5   \n",
       "++/imsKMXignukHBIRfOhocobbR8Qk1Ew5mhjOCJg5A=                   1   \n",
       "++0+IdHga8fCSioOVpU8K7y4Asw8AveIApVH2r9q9yY=                   1   \n",
       "++0/NopttBsaAn6qHZA2AWWrDg7Me7UOMs1vsyo4tSI=                  12   \n",
       "++02XbtviomSxcIBUHMOiJkjRxdicTXSfiVqLdsr5lo=                   1   \n",
       "++096narOxHnDPtbtUtB4WDqDy8EJacQypdqDYBHmmY=                   1   \n",
       "++0BJXY8tpirgIhJR14LDM1pnaRosjD1mdO1mIKxlJA=                  16   \n",
       "++0EzISdtKY48Z0GY62jer/LFQwrNIAbADdtU5xStGY=                   6   \n",
       "++0GCV3WGMjibrwCnDuVZXMoIxs1mnMRaD7rFJFU2Ho=                   1   \n",
       "++0JQqGo/czgqG5qCY31TYkzV7WUMf2QWAS+OeIs//o=                   1   \n",
       "++0KpReZV9DjNUlP6aQhK3MDLWaxbA6fvZKh4UaFc3w=                   2   \n",
       "++0MHbl6tWtIajj1II8WXoqmt8HJyg8qdF7HFXqZsbs=                   1   \n",
       "++0XxUiOHZeYOgVDnJlFiXIp3Y7l+x4NLlaSEMOBrFI=                   1   \n",
       "++0nOC7BmrUTtcSboRORfg6ZXTajnBDt1f/SEgH6ONo=                   7   \n",
       "++0t0Uy2D3r1pRVxg28G3r3l5PfhFlCPMGElwHqbYL8=                   1   \n",
       "++0wqjjQge1mBBe5r4ciHGKwtF/m322zkra7CK8I+Mw=                  16   \n",
       "++1G0wVY14Lp0VXak1ymLhPUdXPSFJVBnjWwzGxBKJs=                  18   \n",
       "++1GCIyXZO7834NjDKmcK1lBVLQi9PsN6sOC7wfW+8g=                   8   \n",
       "++1SsMUpPBTruO9rzPk9p/OpgMorz3TzRd1howM1fqw=                   2   \n",
       "++1TnybRWMiv1YN2UW5hyicLSm3AhDaU/89lFkZC//8=                   2   \n",
       "...                                                          ...   \n",
       "zzwlIVmSuehTevzOi+WkcC7b3+MBYDiE4qybszTyhII=                  11   \n",
       "zzwqRwQTk9XF8Z/sApLjZm/QD6A08kmdFfPBGi8xIGE=                   1   \n",
       "zzwsW1MnZalh6V5BwYE+V6hFWyKJYOf+rFd+SWVXxp8=                  18   \n",
       "zzx1qgX8R9EmT8PAn4/KyQ6s7PuLYTfR8kUCABiCW9E=                   7   \n",
       "zzx4MmvaZjgHvBcOfqPX4PZPpo1FBuOrCbJMn+g9g7E=                   9   \n",
       "zzx4hKiyR9XFEGAr7SAjcCPbKJCZ+IqegWL7dPjPwZk=                  27   \n",
       "zzx7wcys2Nha6yP2Skjs+R1/JNAfEuAWUaAp0qsV2Cg=                  25   \n",
       "zzx9r9Hc2SzisoCkp5i+oDZqRURAwMwVggtTafCMAvE=                   1   \n",
       "zzxPS8+wCuE4HE85EDp4WBHgS5l548vfwXJbQq1HZ9I=                  19   \n",
       "zzxQsz+IFQArKdmrVoolrDr1UI2d2NuI5vCP2puPQdk=                   2   \n",
       "zzxZeMFx2fjfKZigMnJa2w0EmloDbm8+8nTf/o/00GY=                  26   \n",
       "zzxa/wrL2Ak1YxYqv218iF0XehDkxTzWkdaeXjx3jw0=                   3   \n",
       "zzxgQdCEh6RvCKlnIEyvxn315Q2L01DXNmoTaCqg96Q=                   1   \n",
       "zzxi7n5xoTYo9Q3VTygLWvl/rBDcexwaeAry0yK7Q0E=                   4   \n",
       "zzxp2iylK+x/+BUSMoAbrrmgUngDjMonM/+HSm1XgOo=                  20   \n",
       "zzxqpgPX1epGyR3SVRKb3XitWdt+JqDURxV5ea1D7Cg=                  21   \n",
       "zzy/TTClecSFRMLsbTlCSNX9PoqQJXmSO/uBWgOTKNk=                   1   \n",
       "zzy4aXyTi7LkfQ77Z6PzRlJsrSOKxM21y4BSujGeo8k=                   3   \n",
       "zzy7iqSpfcRq7R4hmKKuhI+CJRs79a6pteqEggpiNO0=                   5   \n",
       "zzyHq6TK2+cBkeGFUHvh12Z7UxFZiSM7dOOSllSBPDw=                  23   \n",
       "zzyuTnRVQQGxs0UN8qzU2Pedh3z8F7UeoiQpNhJRomM=                  17   \n",
       "zzz/5bh+8EOZTpIRKWiiaAwEH4uYwfDUaiahJlvABiQ=                   8   \n",
       "zzz1Dc3P9s53HAowRTrm3fNsWju5yeN4YBfNDq7Z99Q=                  16   \n",
       "zzz4xr5LLzoxUqD6LfKiieCt8Or4dUWFQ0RA5gmkx8I=                  26   \n",
       "zzz672Xpk1wKox75rJ5gak43ZkFQUV1f7Xek3jnPeRM=                   1   \n",
       "zzz9+ZF4+GMyt63oU8xfjo1EkvRqH5OINlES0RUJI6I=                  14   \n",
       "zzzF1KsGfHH3qI6qiSNSXC35UXmVKMVFdxkp7xmDMc0=                   1   \n",
       "zzzN9thH22os1dRS0VHReY/8FTfGHOi86//d+wGGFsQ=                  12   \n",
       "zzztsqkufVj9DPVJDM3FxDkhlbCL5z4aiYxgPSGkIK4=                   1   \n",
       "zzzyOgMk9MljCerbCCYrVtvu85aSCiy7yCMjAEgNYMs=                   1   \n",
       "\n",
       "                                              is_auto_renew  transaction_date  \\\n",
       "msno                                                                            \n",
       "+++FOrTS7ab3tIgIh8eWwX4FqRv8w/FoiOuyXsFvphY=              1                 1   \n",
       "+++IZseRRiQS9aaSkH6cMYU6bGDcxUieAi/tH67sC5s=              1                 1   \n",
       "+++hVY1rZox/33YtvDgmKA2Frg/2qhkz12B9ylCvh8o=              4                 4   \n",
       "+++l/EXNMLTijfLBa8p2TUVVVp2aFGSuUI/h7mLmthw=             19                19   \n",
       "+++snpr7pmobhLKUgSHTv/mpkqgBT0tQJ0zQj6qKrqc=             26                26   \n",
       "++/9R3sX37CjxbY/AaGvbwr3QkwElKBCtSvVzhCBDOk=             12                12   \n",
       "++/Gw1B9K+XOlB3hLTloeUK2QlCa2m+BJ8TrzGf7djI=              9                 9   \n",
       "++/TR7WI15q2ZCtOXmoap7jR+kEhbMVE5swOqsfqpqI=              9                 9   \n",
       "++/UDNo9DLrxT8QVGiDi1OnWfczAdEwThaVyD0fXO50=             19                19   \n",
       "++/ZHqwUNa7U21Qz+zqteiXlZapxey86l6eEorrak/g=             21                21   \n",
       "++/gTmVgKUbNFmsTiriZdWV1uZIrLXCUiEWN0fEU6BM=              5                 5   \n",
       "++/imsKMXignukHBIRfOhocobbR8Qk1Ew5mhjOCJg5A=              1                 1   \n",
       "++0+IdHga8fCSioOVpU8K7y4Asw8AveIApVH2r9q9yY=              1                 1   \n",
       "++0/NopttBsaAn6qHZA2AWWrDg7Me7UOMs1vsyo4tSI=             12                12   \n",
       "++02XbtviomSxcIBUHMOiJkjRxdicTXSfiVqLdsr5lo=              1                 1   \n",
       "++096narOxHnDPtbtUtB4WDqDy8EJacQypdqDYBHmmY=              1                 1   \n",
       "++0BJXY8tpirgIhJR14LDM1pnaRosjD1mdO1mIKxlJA=             16                16   \n",
       "++0EzISdtKY48Z0GY62jer/LFQwrNIAbADdtU5xStGY=              6                 6   \n",
       "++0GCV3WGMjibrwCnDuVZXMoIxs1mnMRaD7rFJFU2Ho=              1                 1   \n",
       "++0JQqGo/czgqG5qCY31TYkzV7WUMf2QWAS+OeIs//o=              1                 1   \n",
       "++0KpReZV9DjNUlP6aQhK3MDLWaxbA6fvZKh4UaFc3w=              2                 2   \n",
       "++0MHbl6tWtIajj1II8WXoqmt8HJyg8qdF7HFXqZsbs=              1                 1   \n",
       "++0XxUiOHZeYOgVDnJlFiXIp3Y7l+x4NLlaSEMOBrFI=              1                 1   \n",
       "++0nOC7BmrUTtcSboRORfg6ZXTajnBDt1f/SEgH6ONo=              7                 7   \n",
       "++0t0Uy2D3r1pRVxg28G3r3l5PfhFlCPMGElwHqbYL8=              1                 1   \n",
       "++0wqjjQge1mBBe5r4ciHGKwtF/m322zkra7CK8I+Mw=             16                16   \n",
       "++1G0wVY14Lp0VXak1ymLhPUdXPSFJVBnjWwzGxBKJs=             18                18   \n",
       "++1GCIyXZO7834NjDKmcK1lBVLQi9PsN6sOC7wfW+8g=              8                 8   \n",
       "++1SsMUpPBTruO9rzPk9p/OpgMorz3TzRd1howM1fqw=              2                 2   \n",
       "++1TnybRWMiv1YN2UW5hyicLSm3AhDaU/89lFkZC//8=              2                 2   \n",
       "...                                                     ...               ...   \n",
       "zzwlIVmSuehTevzOi+WkcC7b3+MBYDiE4qybszTyhII=             11                11   \n",
       "zzwqRwQTk9XF8Z/sApLjZm/QD6A08kmdFfPBGi8xIGE=              1                 1   \n",
       "zzwsW1MnZalh6V5BwYE+V6hFWyKJYOf+rFd+SWVXxp8=             18                18   \n",
       "zzx1qgX8R9EmT8PAn4/KyQ6s7PuLYTfR8kUCABiCW9E=              7                 7   \n",
       "zzx4MmvaZjgHvBcOfqPX4PZPpo1FBuOrCbJMn+g9g7E=              9                 9   \n",
       "zzx4hKiyR9XFEGAr7SAjcCPbKJCZ+IqegWL7dPjPwZk=             27                27   \n",
       "zzx7wcys2Nha6yP2Skjs+R1/JNAfEuAWUaAp0qsV2Cg=             25                25   \n",
       "zzx9r9Hc2SzisoCkp5i+oDZqRURAwMwVggtTafCMAvE=              1                 1   \n",
       "zzxPS8+wCuE4HE85EDp4WBHgS5l548vfwXJbQq1HZ9I=             19                19   \n",
       "zzxQsz+IFQArKdmrVoolrDr1UI2d2NuI5vCP2puPQdk=              2                 2   \n",
       "zzxZeMFx2fjfKZigMnJa2w0EmloDbm8+8nTf/o/00GY=             26                26   \n",
       "zzxa/wrL2Ak1YxYqv218iF0XehDkxTzWkdaeXjx3jw0=              3                 3   \n",
       "zzxgQdCEh6RvCKlnIEyvxn315Q2L01DXNmoTaCqg96Q=              1                 1   \n",
       "zzxi7n5xoTYo9Q3VTygLWvl/rBDcexwaeAry0yK7Q0E=              4                 4   \n",
       "zzxp2iylK+x/+BUSMoAbrrmgUngDjMonM/+HSm1XgOo=             20                20   \n",
       "zzxqpgPX1epGyR3SVRKb3XitWdt+JqDURxV5ea1D7Cg=             21                21   \n",
       "zzy/TTClecSFRMLsbTlCSNX9PoqQJXmSO/uBWgOTKNk=              1                 1   \n",
       "zzy4aXyTi7LkfQ77Z6PzRlJsrSOKxM21y4BSujGeo8k=              3                 3   \n",
       "zzy7iqSpfcRq7R4hmKKuhI+CJRs79a6pteqEggpiNO0=              5                 5   \n",
       "zzyHq6TK2+cBkeGFUHvh12Z7UxFZiSM7dOOSllSBPDw=             23                23   \n",
       "zzyuTnRVQQGxs0UN8qzU2Pedh3z8F7UeoiQpNhJRomM=             17                17   \n",
       "zzz/5bh+8EOZTpIRKWiiaAwEH4uYwfDUaiahJlvABiQ=              8                 8   \n",
       "zzz1Dc3P9s53HAowRTrm3fNsWju5yeN4YBfNDq7Z99Q=             16                16   \n",
       "zzz4xr5LLzoxUqD6LfKiieCt8Or4dUWFQ0RA5gmkx8I=             26                26   \n",
       "zzz672Xpk1wKox75rJ5gak43ZkFQUV1f7Xek3jnPeRM=              1                 1   \n",
       "zzz9+ZF4+GMyt63oU8xfjo1EkvRqH5OINlES0RUJI6I=             14                14   \n",
       "zzzF1KsGfHH3qI6qiSNSXC35UXmVKMVFdxkp7xmDMc0=              1                 1   \n",
       "zzzN9thH22os1dRS0VHReY/8FTfGHOi86//d+wGGFsQ=             12                12   \n",
       "zzztsqkufVj9DPVJDM3FxDkhlbCL5z4aiYxgPSGkIK4=              1                 1   \n",
       "zzzyOgMk9MljCerbCCYrVtvu85aSCiy7yCMjAEgNYMs=              1                 1   \n",
       "\n",
       "                                              membership_expire_date  \\\n",
       "msno                                                                   \n",
       "+++FOrTS7ab3tIgIh8eWwX4FqRv8w/FoiOuyXsFvphY=                       1   \n",
       "+++IZseRRiQS9aaSkH6cMYU6bGDcxUieAi/tH67sC5s=                       1   \n",
       "+++hVY1rZox/33YtvDgmKA2Frg/2qhkz12B9ylCvh8o=                       4   \n",
       "+++l/EXNMLTijfLBa8p2TUVVVp2aFGSuUI/h7mLmthw=                      19   \n",
       "+++snpr7pmobhLKUgSHTv/mpkqgBT0tQJ0zQj6qKrqc=                      26   \n",
       "++/9R3sX37CjxbY/AaGvbwr3QkwElKBCtSvVzhCBDOk=                      12   \n",
       "++/Gw1B9K+XOlB3hLTloeUK2QlCa2m+BJ8TrzGf7djI=                       9   \n",
       "++/TR7WI15q2ZCtOXmoap7jR+kEhbMVE5swOqsfqpqI=                       9   \n",
       "++/UDNo9DLrxT8QVGiDi1OnWfczAdEwThaVyD0fXO50=                      19   \n",
       "++/ZHqwUNa7U21Qz+zqteiXlZapxey86l6eEorrak/g=                      21   \n",
       "++/gTmVgKUbNFmsTiriZdWV1uZIrLXCUiEWN0fEU6BM=                       5   \n",
       "++/imsKMXignukHBIRfOhocobbR8Qk1Ew5mhjOCJg5A=                       1   \n",
       "++0+IdHga8fCSioOVpU8K7y4Asw8AveIApVH2r9q9yY=                       1   \n",
       "++0/NopttBsaAn6qHZA2AWWrDg7Me7UOMs1vsyo4tSI=                      12   \n",
       "++02XbtviomSxcIBUHMOiJkjRxdicTXSfiVqLdsr5lo=                       1   \n",
       "++096narOxHnDPtbtUtB4WDqDy8EJacQypdqDYBHmmY=                       1   \n",
       "++0BJXY8tpirgIhJR14LDM1pnaRosjD1mdO1mIKxlJA=                      16   \n",
       "++0EzISdtKY48Z0GY62jer/LFQwrNIAbADdtU5xStGY=                       6   \n",
       "++0GCV3WGMjibrwCnDuVZXMoIxs1mnMRaD7rFJFU2Ho=                       1   \n",
       "++0JQqGo/czgqG5qCY31TYkzV7WUMf2QWAS+OeIs//o=                       1   \n",
       "++0KpReZV9DjNUlP6aQhK3MDLWaxbA6fvZKh4UaFc3w=                       2   \n",
       "++0MHbl6tWtIajj1II8WXoqmt8HJyg8qdF7HFXqZsbs=                       1   \n",
       "++0XxUiOHZeYOgVDnJlFiXIp3Y7l+x4NLlaSEMOBrFI=                       1   \n",
       "++0nOC7BmrUTtcSboRORfg6ZXTajnBDt1f/SEgH6ONo=                       7   \n",
       "++0t0Uy2D3r1pRVxg28G3r3l5PfhFlCPMGElwHqbYL8=                       1   \n",
       "++0wqjjQge1mBBe5r4ciHGKwtF/m322zkra7CK8I+Mw=                      16   \n",
       "++1G0wVY14Lp0VXak1ymLhPUdXPSFJVBnjWwzGxBKJs=                      18   \n",
       "++1GCIyXZO7834NjDKmcK1lBVLQi9PsN6sOC7wfW+8g=                       8   \n",
       "++1SsMUpPBTruO9rzPk9p/OpgMorz3TzRd1howM1fqw=                       2   \n",
       "++1TnybRWMiv1YN2UW5hyicLSm3AhDaU/89lFkZC//8=                       2   \n",
       "...                                                              ...   \n",
       "zzwlIVmSuehTevzOi+WkcC7b3+MBYDiE4qybszTyhII=                      11   \n",
       "zzwqRwQTk9XF8Z/sApLjZm/QD6A08kmdFfPBGi8xIGE=                       1   \n",
       "zzwsW1MnZalh6V5BwYE+V6hFWyKJYOf+rFd+SWVXxp8=                      18   \n",
       "zzx1qgX8R9EmT8PAn4/KyQ6s7PuLYTfR8kUCABiCW9E=                       7   \n",
       "zzx4MmvaZjgHvBcOfqPX4PZPpo1FBuOrCbJMn+g9g7E=                       9   \n",
       "zzx4hKiyR9XFEGAr7SAjcCPbKJCZ+IqegWL7dPjPwZk=                      27   \n",
       "zzx7wcys2Nha6yP2Skjs+R1/JNAfEuAWUaAp0qsV2Cg=                      25   \n",
       "zzx9r9Hc2SzisoCkp5i+oDZqRURAwMwVggtTafCMAvE=                       1   \n",
       "zzxPS8+wCuE4HE85EDp4WBHgS5l548vfwXJbQq1HZ9I=                      19   \n",
       "zzxQsz+IFQArKdmrVoolrDr1UI2d2NuI5vCP2puPQdk=                       2   \n",
       "zzxZeMFx2fjfKZigMnJa2w0EmloDbm8+8nTf/o/00GY=                      26   \n",
       "zzxa/wrL2Ak1YxYqv218iF0XehDkxTzWkdaeXjx3jw0=                       3   \n",
       "zzxgQdCEh6RvCKlnIEyvxn315Q2L01DXNmoTaCqg96Q=                       1   \n",
       "zzxi7n5xoTYo9Q3VTygLWvl/rBDcexwaeAry0yK7Q0E=                       4   \n",
       "zzxp2iylK+x/+BUSMoAbrrmgUngDjMonM/+HSm1XgOo=                      20   \n",
       "zzxqpgPX1epGyR3SVRKb3XitWdt+JqDURxV5ea1D7Cg=                      21   \n",
       "zzy/TTClecSFRMLsbTlCSNX9PoqQJXmSO/uBWgOTKNk=                       1   \n",
       "zzy4aXyTi7LkfQ77Z6PzRlJsrSOKxM21y4BSujGeo8k=                       3   \n",
       "zzy7iqSpfcRq7R4hmKKuhI+CJRs79a6pteqEggpiNO0=                       5   \n",
       "zzyHq6TK2+cBkeGFUHvh12Z7UxFZiSM7dOOSllSBPDw=                      23   \n",
       "zzyuTnRVQQGxs0UN8qzU2Pedh3z8F7UeoiQpNhJRomM=                      17   \n",
       "zzz/5bh+8EOZTpIRKWiiaAwEH4uYwfDUaiahJlvABiQ=                       8   \n",
       "zzz1Dc3P9s53HAowRTrm3fNsWju5yeN4YBfNDq7Z99Q=                      16   \n",
       "zzz4xr5LLzoxUqD6LfKiieCt8Or4dUWFQ0RA5gmkx8I=                      26   \n",
       "zzz672Xpk1wKox75rJ5gak43ZkFQUV1f7Xek3jnPeRM=                       1   \n",
       "zzz9+ZF4+GMyt63oU8xfjo1EkvRqH5OINlES0RUJI6I=                      14   \n",
       "zzzF1KsGfHH3qI6qiSNSXC35UXmVKMVFdxkp7xmDMc0=                       1   \n",
       "zzzN9thH22os1dRS0VHReY/8FTfGHOi86//d+wGGFsQ=                      12   \n",
       "zzztsqkufVj9DPVJDM3FxDkhlbCL5z4aiYxgPSGkIK4=                       1   \n",
       "zzzyOgMk9MljCerbCCYrVtvu85aSCiy7yCMjAEgNYMs=                       1   \n",
       "\n",
       "                                              is_cancel  \n",
       "msno                                                     \n",
       "+++FOrTS7ab3tIgIh8eWwX4FqRv8w/FoiOuyXsFvphY=          1  \n",
       "+++IZseRRiQS9aaSkH6cMYU6bGDcxUieAi/tH67sC5s=          1  \n",
       "+++hVY1rZox/33YtvDgmKA2Frg/2qhkz12B9ylCvh8o=          4  \n",
       "+++l/EXNMLTijfLBa8p2TUVVVp2aFGSuUI/h7mLmthw=         19  \n",
       "+++snpr7pmobhLKUgSHTv/mpkqgBT0tQJ0zQj6qKrqc=         26  \n",
       "++/9R3sX37CjxbY/AaGvbwr3QkwElKBCtSvVzhCBDOk=         12  \n",
       "++/Gw1B9K+XOlB3hLTloeUK2QlCa2m+BJ8TrzGf7djI=          9  \n",
       "++/TR7WI15q2ZCtOXmoap7jR+kEhbMVE5swOqsfqpqI=          9  \n",
       "++/UDNo9DLrxT8QVGiDi1OnWfczAdEwThaVyD0fXO50=         19  \n",
       "++/ZHqwUNa7U21Qz+zqteiXlZapxey86l6eEorrak/g=         21  \n",
       "++/gTmVgKUbNFmsTiriZdWV1uZIrLXCUiEWN0fEU6BM=          5  \n",
       "++/imsKMXignukHBIRfOhocobbR8Qk1Ew5mhjOCJg5A=          1  \n",
       "++0+IdHga8fCSioOVpU8K7y4Asw8AveIApVH2r9q9yY=          1  \n",
       "++0/NopttBsaAn6qHZA2AWWrDg7Me7UOMs1vsyo4tSI=         12  \n",
       "++02XbtviomSxcIBUHMOiJkjRxdicTXSfiVqLdsr5lo=          1  \n",
       "++096narOxHnDPtbtUtB4WDqDy8EJacQypdqDYBHmmY=          1  \n",
       "++0BJXY8tpirgIhJR14LDM1pnaRosjD1mdO1mIKxlJA=         16  \n",
       "++0EzISdtKY48Z0GY62jer/LFQwrNIAbADdtU5xStGY=          6  \n",
       "++0GCV3WGMjibrwCnDuVZXMoIxs1mnMRaD7rFJFU2Ho=          1  \n",
       "++0JQqGo/czgqG5qCY31TYkzV7WUMf2QWAS+OeIs//o=          1  \n",
       "++0KpReZV9DjNUlP6aQhK3MDLWaxbA6fvZKh4UaFc3w=          2  \n",
       "++0MHbl6tWtIajj1II8WXoqmt8HJyg8qdF7HFXqZsbs=          1  \n",
       "++0XxUiOHZeYOgVDnJlFiXIp3Y7l+x4NLlaSEMOBrFI=          1  \n",
       "++0nOC7BmrUTtcSboRORfg6ZXTajnBDt1f/SEgH6ONo=          7  \n",
       "++0t0Uy2D3r1pRVxg28G3r3l5PfhFlCPMGElwHqbYL8=          1  \n",
       "++0wqjjQge1mBBe5r4ciHGKwtF/m322zkra7CK8I+Mw=         16  \n",
       "++1G0wVY14Lp0VXak1ymLhPUdXPSFJVBnjWwzGxBKJs=         18  \n",
       "++1GCIyXZO7834NjDKmcK1lBVLQi9PsN6sOC7wfW+8g=          8  \n",
       "++1SsMUpPBTruO9rzPk9p/OpgMorz3TzRd1howM1fqw=          2  \n",
       "++1TnybRWMiv1YN2UW5hyicLSm3AhDaU/89lFkZC//8=          2  \n",
       "...                                                 ...  \n",
       "zzwlIVmSuehTevzOi+WkcC7b3+MBYDiE4qybszTyhII=         11  \n",
       "zzwqRwQTk9XF8Z/sApLjZm/QD6A08kmdFfPBGi8xIGE=          1  \n",
       "zzwsW1MnZalh6V5BwYE+V6hFWyKJYOf+rFd+SWVXxp8=         18  \n",
       "zzx1qgX8R9EmT8PAn4/KyQ6s7PuLYTfR8kUCABiCW9E=          7  \n",
       "zzx4MmvaZjgHvBcOfqPX4PZPpo1FBuOrCbJMn+g9g7E=          9  \n",
       "zzx4hKiyR9XFEGAr7SAjcCPbKJCZ+IqegWL7dPjPwZk=         27  \n",
       "zzx7wcys2Nha6yP2Skjs+R1/JNAfEuAWUaAp0qsV2Cg=         25  \n",
       "zzx9r9Hc2SzisoCkp5i+oDZqRURAwMwVggtTafCMAvE=          1  \n",
       "zzxPS8+wCuE4HE85EDp4WBHgS5l548vfwXJbQq1HZ9I=         19  \n",
       "zzxQsz+IFQArKdmrVoolrDr1UI2d2NuI5vCP2puPQdk=          2  \n",
       "zzxZeMFx2fjfKZigMnJa2w0EmloDbm8+8nTf/o/00GY=         26  \n",
       "zzxa/wrL2Ak1YxYqv218iF0XehDkxTzWkdaeXjx3jw0=          3  \n",
       "zzxgQdCEh6RvCKlnIEyvxn315Q2L01DXNmoTaCqg96Q=          1  \n",
       "zzxi7n5xoTYo9Q3VTygLWvl/rBDcexwaeAry0yK7Q0E=          4  \n",
       "zzxp2iylK+x/+BUSMoAbrrmgUngDjMonM/+HSm1XgOo=         20  \n",
       "zzxqpgPX1epGyR3SVRKb3XitWdt+JqDURxV5ea1D7Cg=         21  \n",
       "zzy/TTClecSFRMLsbTlCSNX9PoqQJXmSO/uBWgOTKNk=          1  \n",
       "zzy4aXyTi7LkfQ77Z6PzRlJsrSOKxM21y4BSujGeo8k=          3  \n",
       "zzy7iqSpfcRq7R4hmKKuhI+CJRs79a6pteqEggpiNO0=          5  \n",
       "zzyHq6TK2+cBkeGFUHvh12Z7UxFZiSM7dOOSllSBPDw=         23  \n",
       "zzyuTnRVQQGxs0UN8qzU2Pedh3z8F7UeoiQpNhJRomM=         17  \n",
       "zzz/5bh+8EOZTpIRKWiiaAwEH4uYwfDUaiahJlvABiQ=          8  \n",
       "zzz1Dc3P9s53HAowRTrm3fNsWju5yeN4YBfNDq7Z99Q=         16  \n",
       "zzz4xr5LLzoxUqD6LfKiieCt8Or4dUWFQ0RA5gmkx8I=         26  \n",
       "zzz672Xpk1wKox75rJ5gak43ZkFQUV1f7Xek3jnPeRM=          1  \n",
       "zzz9+ZF4+GMyt63oU8xfjo1EkvRqH5OINlES0RUJI6I=         14  \n",
       "zzzF1KsGfHH3qI6qiSNSXC35UXmVKMVFdxkp7xmDMc0=          1  \n",
       "zzzN9thH22os1dRS0VHReY/8FTfGHOi86//d+wGGFsQ=         12  \n",
       "zzztsqkufVj9DPVJDM3FxDkhlbCL5z4aiYxgPSGkIK4=          1  \n",
       "zzzyOgMk9MljCerbCCYrVtvu85aSCiy7yCMjAEgNYMs=          1  \n",
       "\n",
       "[2363626 rows x 8 columns]"
      ]
     },
     "execution_count": 32,
     "metadata": {},
     "output_type": "execute_result"
    }
   ],
   "source": [
    "transactions_df.groupby(\"msno\").count()"
   ]
  },
  {
   "cell_type": "code",
   "execution_count": 31,
   "metadata": {},
   "outputs": [
    {
     "data": {
      "text/plain": [
       "<matplotlib.axes._subplots.AxesSubplot at 0x7fc20f79f2b0>"
      ]
     },
     "execution_count": 31,
     "metadata": {},
     "output_type": "execute_result"
    },
    {
     "data": {
      "image/png": "[encoded data removed]",
      "text/plain": [
       "<matplotlib.figure.Figure at 0x7fc20f7a92b0>"
      ]
     },
     "metadata": {},
     "output_type": "display_data"
    }
   ],
   "source": [
    "transactions_df.groupby(\"is_cancel\").count()[\"msno\"].plot(kind = \"bar\" )"
   ]
  },
  {
   "cell_type": "code",
   "execution_count": 30,
   "metadata": {},
   "outputs": [
    {
     "data": {
      "text/plain": [
       "<matplotlib.axes._subplots.AxesSubplot at 0x7fc20f841860>"
      ]
     },
     "execution_count": 30,
     "metadata": {},
     "output_type": "execute_result"
    },
    {
     "data": {
      "image/png": "[encoded data removed]",
      "text/plain": [
       "<matplotlib.figure.Figure at 0x7fc20f856eb8>"
      ]
     },
     "metadata": {},
     "output_type": "display_data"
    }
   ],
   "source": [
    "transactions_df.groupby(\"is_auto_renew\").count()[\"msno\"].plot(kind = \"bar\" )"
   ]
  },
  {
   "cell_type": "code",
   "execution_count": 29,
   "metadata": {},
   "outputs": [
    {
     "data": {
      "text/plain": [
       "<matplotlib.axes._subplots.AxesSubplot at 0x7fc20fbff780>"
      ]
     },
     "execution_count": 29,
     "metadata": {},
     "output_type": "execute_result"
    },
    {
     "data": {
      "image/png": "[encoded data removed]",
      "text/plain": [
       "<matplotlib.figure.Figure at 0x7fc20fae7c18>"
      ]
     },
     "metadata": {},
     "output_type": "display_data"
    }
   ],
   "source": [
    "transactions_df.groupby(\"actual_amount_paid\").count()[\"msno\"].plot(kind = \"bar\" )"
   ]
  },
  {
   "cell_type": "code",
   "execution_count": 27,
   "metadata": {},
   "outputs": [
    {
     "data": {
      "text/plain": [
       "<matplotlib.axes._subplots.AxesSubplot at 0x7fc20ff4fc18>"
      ]
     },
     "execution_count": 27,
     "metadata": {},
     "output_type": "execute_result"
    },
    {
     "data": {
      "image/png": "[encoded data removed]",
      "text/plain": [
       "<matplotlib.figure.Figure at 0x7fc22a2be9e8>"
      ]
     },
     "metadata": {},
     "output_type": "display_data"
    }
   ],
   "source": [
    "transactions_df.groupby(\"payment_plan_days\").count()[\"msno\"].plot(kind = \"bar\" )"
   ]
  },
  {
   "cell_type": "code",
   "execution_count": 28,
   "metadata": {},
   "outputs": [
    {
     "data": {
      "text/plain": [
       "<matplotlib.axes._subplots.AxesSubplot at 0x7fc20fcc20b8>"
      ]
     },
     "execution_count": 28,
     "metadata": {},
     "output_type": "execute_result"
    },
    {
     "data": {
      "image/png": "[encoded data removed]",
      "text/plain": [
       "<matplotlib.figure.Figure at 0x7fc20fcd5e10>"
      ]
     },
     "metadata": {},
     "output_type": "display_data"
    }
   ],
   "source": [
    "transactions_df.groupby(\"plan_list_price\").count()[\"msno\"].plot(kind = \"bar\" )"
   ]
  },
  {
   "cell_type": "code",
   "execution_count": 26,
   "metadata": {},
   "outputs": [
    {
     "data": {
      "text/plain": [
       "<matplotlib.axes._subplots.AxesSubplot at 0x7fc2100713c8>"
      ]
     },
     "execution_count": 26,
     "metadata": {},
     "output_type": "execute_result"
    },
    {
     "data": {
      "image/png": "[encoded data removed]",
      "text/plain": [
       "<matplotlib.figure.Figure at 0x7fc21007bb38>"
      ]
     },
     "metadata": {},
     "output_type": "display_data"
    }
   ],
   "source": [
    "transactions_df.groupby(\"payment_method_id\").count()[\"msno\"].plot(kind = \"bar\" )"
   ]
  },
  {
   "cell_type": "code",
   "execution_count": 8,
   "metadata": {},
   "outputs": [
    {
     "data": {
      "text/plain": [
       "<matplotlib.axes._subplots.AxesSubplot at 0x7fc22d4fa3c8>"
      ]
     },
     "execution_count": 8,
     "metadata": {},
     "output_type": "execute_result"
    },
    {
     "data": {
      "image/png": "[encoded data removed]",
      "text/plain": [
       "<matplotlib.figure.Figure at 0x7fc22d5587f0>"
      ]
     },
     "metadata": {},
     "output_type": "display_data"
    }
   ],
   "source": [
    "train_df.groupby([\"is_churn\"]).count()[\"msno\"].plot(kind = \"bar\" )"
   ]
  },
  {
   "cell_type": "code",
   "execution_count": 10,
   "metadata": {},
   "outputs": [
    {
     "data": {
      "text/plain": [
       "<matplotlib.axes._subplots.AxesSubplot at 0x7fc22ab34c50>"
      ]
     },
     "execution_count": 10,
     "metadata": {},
     "output_type": "execute_result"
    },
    {
     "data": {
      "image/png": "[encoded data removed]",
      "text/plain": [
       "<matplotlib.figure.Figure at 0x7fc22ab42780>"
      ]
     },
     "metadata": {},
     "output_type": "display_data"
    }
   ],
   "source": [
    "members_df.groupby(\"city\").count()[\"msno\"].plot(kind = \"bar\" )"
   ]
  },
  {
   "cell_type": "code",
   "execution_count": 21,
   "metadata": {
    "collapsed": true
   },
   "outputs": [],
   "source": [
    "members_df2 = members_df[(members_df['bd']<95)&(members_df['bd']>10)]"
   ]
  },
  {
   "cell_type": "code",
   "execution_count": 23,
   "metadata": {},
   "outputs": [
    {
     "data": {
      "text/plain": [
       "<matplotlib.axes._subplots.AxesSubplot at 0x7fc210f2bf98>"
      ]
     },
     "execution_count": 23,
     "metadata": {},
     "output_type": "execute_result"
    },
    {
     "data": {
      "image/png": "[encoded data removed]",
      "text/plain": [
       "<matplotlib.figure.Figure at 0x7fc22a0b4c50>"
      ]
     },
     "metadata": {},
     "output_type": "display_data"
    }
   ],
   "source": [
    "members_df2.groupby(\"bd\").count()[\"msno\"].plot(kind = \"bar\")"
   ]
  },
  {
   "cell_type": "code",
   "execution_count": 24,
   "metadata": {},
   "outputs": [
    {
     "data": {
      "text/plain": [
       "<matplotlib.axes._subplots.AxesSubplot at 0x7fc22a0b4240>"
      ]
     },
     "execution_count": 24,
     "metadata": {},
     "output_type": "execute_result"
    },
    {
     "data": {
      "image/png": "[encoded data removed]",
      "text/plain": [
       "<matplotlib.figure.Figure at 0x7fc22a139208>"
      ]
     },
     "metadata": {},
     "output_type": "display_data"
    }
   ],
   "source": [
    "members_df.groupby(\"gender\").count()[\"msno\"].plot(kind = \"bar\" )"
   ]
  },
  {
   "cell_type": "code",
   "execution_count": 25,
   "metadata": {},
   "outputs": [
    {
     "data": {
      "text/plain": [
       "<matplotlib.axes._subplots.AxesSubplot at 0x7fc210313710>"
      ]
     },
     "execution_count": 25,
     "metadata": {},
     "output_type": "execute_result"
    },
    {
     "data": {
      "image/png": "[encoded data removed]",
      "text/plain": [
       "<matplotlib.figure.Figure at 0x7fc210159f60>"
      ]
     },
     "metadata": {},
     "output_type": "display_data"
    }
   ],
   "source": [
    "members_df.groupby(\"registered_via\").count()[\"msno\"].plot(kind = \"bar\" )"
   ]
  },
  {
   "cell_type": "code",
   "execution_count": 13,
   "metadata": {},
   "outputs": [
    {
     "data": {
      "text/plain": [
       "count    5.116194e+06\n",
       "mean     9.772362e+00\n",
       "std      1.795875e+01\n",
       "min     -6.998000e+03\n",
       "25%      0.000000e+00\n",
       "50%      0.000000e+00\n",
       "75%      2.100000e+01\n",
       "max      2.015000e+03\n",
       "Name: bd, dtype: float64"
      ]
     },
     "execution_count": 13,
     "metadata": {},
     "output_type": "execute_result"
    }
   ],
   "source": [
    "members_df['bd'].describe()"
   ]
  },
  {
   "cell_type": "code",
   "execution_count": 16,
   "metadata": {},
   "outputs": [
    {
     "data": {
      "text/plain": [
       "count    5500.000000\n",
       "mean      144.018727\n",
       "std       197.426432\n",
       "min        91.000000\n",
       "25%        97.750000\n",
       "50%       104.000000\n",
       "75%       112.000000\n",
       "max      2015.000000\n",
       "Name: bd, dtype: float64"
      ]
     },
     "execution_count": 16,
     "metadata": {},
     "output_type": "execute_result"
    }
   ],
   "source": [
    "members_df[members_df['bd']>90]['bd'].describe()"
   ]
  },
  {
   "cell_type": "code",
   "execution_count": 19,
   "metadata": {},
   "outputs": [
    {
     "data": {
      "text/plain": [
       "array([ 117,   96,   92,  104,  106,   97,  112,   94,   91,  102,   95,\n",
       "        105,  111, 1032,  100,  103,  101,  139,  107,   93, 1042,  115,\n",
       "       1062,  924, 1039,   98,  584,  122,  923,  110,   99,  109,  948,\n",
       "        108, 1017,  919,  118, 1029, 1009, 1033,  935,  221,  649, 1035,\n",
       "        951,  116,  822, 1053, 1038,  939,  689,  143, 1025,  126, 2010,\n",
       "       1021, 1064, 1041,  121,  961, 1028,  938,  137,  936,  141,  113,\n",
       "        519,  826, 2011,  944,  793,  160,  934, 1047,  942,  824, 1051,\n",
       "        928,  462,  131,  933, 1030,  932, 1008,  943,  926,  922,  573,\n",
       "        239, 1031,  906, 1037,  945,  931, 2014, 1040, 1026, 1011,  959,\n",
       "        806,  132, 1819, 1501,  819, 1050, 1421,  941,  837,  155,  950,\n",
       "        930, 1937,  124,  151,  144,  323,  357,  332,  953,  130, 1970,\n",
       "        321,  114,  123, 1036,  964,  150,  230, 1045,  127, 1043,  153,\n",
       "       1949,  228,  133,  128,  339, 1034,  197,  320,  148,  778, 1018,\n",
       "        119,  129,  138,  265,  319,  386,  353,  947,  120, 1052, 1309,\n",
       "       1212,  827,  231,  994,  925,  940,  929,  955,  244,  220,  946,\n",
       "        167,  920, 1967, 1946, 1821,  140, 1049,  163, 1111, 2009,  328,\n",
       "        821, 1058, 1089, 1056,  125,  743, 1820, 1954, 1958, 1048,  237,\n",
       "        810, 1013,  786, 2015])"
      ]
     },
     "execution_count": 19,
     "metadata": {},
     "output_type": "execute_result"
    }
   ],
   "source": [
    "members_df[members_df['bd']>90]['bd'].unique()"
   ]
  },
  {
   "cell_type": "code",
   "execution_count": 17,
   "metadata": {},
   "outputs": [
    {
     "data": {
      "text/plain": [
       "count    3.422255e+06\n",
       "mean    -1.217998e-02\n",
       "std      7.597665e+00\n",
       "min     -6.998000e+03\n",
       "25%      0.000000e+00\n",
       "50%      0.000000e+00\n",
       "75%      0.000000e+00\n",
       "max      9.000000e+00\n",
       "Name: bd, dtype: float64"
      ]
     },
     "execution_count": 17,
     "metadata": {},
     "output_type": "execute_result"
    }
   ],
   "source": [
    "members_df[members_df['bd']<10]['bd'].describe()"
   ]
  },
  {
   "cell_type": "code",
   "execution_count": 20,
   "metadata": {},
   "outputs": [
    {
     "data": {
      "text/plain": [
       "array([    0,   -36,     3,     2,     9,     6,     1,     5,   -51,\n",
       "           7,     4,   -44,   -50,   -48,     8,   -49,   -46,   -39,\n",
       "         -42,   -43, -2828,   -45,   -47,   -41,   -52,   -32,    -9,\n",
       "       -3152,    -8,   -37,   -30,   -40,   -23,   -38, -5978, -6998,\n",
       "         -34,   -24,   -35, -6445, -1970,  -974,  -178,   -22,    -7,\n",
       "        -951,  -963, -6807,   -33,   -19,   -12,    -6,   -14,   -10])"
      ]
     },
     "execution_count": 20,
     "metadata": {},
     "output_type": "execute_result"
    }
   ],
   "source": [
    "members_df[members_df['bd']<10]['bd'].unique()"
   ]
  },
  {
   "cell_type": "code",
   "execution_count": 10,
   "metadata": {},
   "outputs": [
    {
     "data": {
      "text/html": [
       "<div>\n",
       "<table border=\"1\" class=\"dataframe\">\n",
       "  <thead>\n",
       "    <tr style=\"text-align: right;\">\n",
       "      <th></th>\n",
       "      <th>msno</th>\n",
       "      <th>is_churn</th>\n",
       "    </tr>\n",
       "  </thead>\n",
       "  <tbody>\n",
       "    <tr>\n",
       "      <th>0</th>\n",
       "      <td>waLDQMmcOu2jLDaV1ddDkgCrB/jl6sD66Xzs0Vqax1Y=</td>\n",
       "      <td>1</td>\n",
       "    </tr>\n",
       "    <tr>\n",
       "      <th>1</th>\n",
       "      <td>QA7uiXy8vIbUSPOkCf9RwQ3FsT8jVq2OxDr8zqa7bRQ=</td>\n",
       "      <td>1</td>\n",
       "    </tr>\n",
       "    <tr>\n",
       "      <th>2</th>\n",
       "      <td>fGwBva6hikQmTJzrbz/2Ezjm5Cth5jZUNvXigKK2AFA=</td>\n",
       "      <td>1</td>\n",
       "    </tr>\n",
       "    <tr>\n",
       "      <th>3</th>\n",
       "      <td>mT5V8rEpa+8wuqi6x0DoVd3H5icMKkE9Prt49UlmK+4=</td>\n",
       "      <td>1</td>\n",
       "    </tr>\n",
       "    <tr>\n",
       "      <th>4</th>\n",
       "      <td>XaPhtGLk/5UvvOYHcONTwsnH97P4eGECeq+BARGItRw=</td>\n",
       "      <td>1</td>\n",
       "    </tr>\n",
       "  </tbody>\n",
       "</table>\n",
       "</div>"
      ],
      "text/plain": [
       "                                           msno  is_churn\n",
       "0  waLDQMmcOu2jLDaV1ddDkgCrB/jl6sD66Xzs0Vqax1Y=         1\n",
       "1  QA7uiXy8vIbUSPOkCf9RwQ3FsT8jVq2OxDr8zqa7bRQ=         1\n",
       "2  fGwBva6hikQmTJzrbz/2Ezjm5Cth5jZUNvXigKK2AFA=         1\n",
       "3  mT5V8rEpa+8wuqi6x0DoVd3H5icMKkE9Prt49UlmK+4=         1\n",
       "4  XaPhtGLk/5UvvOYHcONTwsnH97P4eGECeq+BARGItRw=         1"
      ]
     },
     "execution_count": 10,
     "metadata": {},
     "output_type": "execute_result"
    }
   ],
   "source": [
    "train_df.head()"
   ]
  },
  {
   "cell_type": "code",
   "execution_count": 11,
   "metadata": {},
   "outputs": [
    {
     "data": {
      "text/html": [
       "<div>\n",
       "<table border=\"1\" class=\"dataframe\">\n",
       "  <thead>\n",
       "    <tr style=\"text-align: right;\">\n",
       "      <th></th>\n",
       "      <th>msno</th>\n",
       "      <th>city</th>\n",
       "      <th>bd</th>\n",
       "      <th>gender</th>\n",
       "      <th>registered_via</th>\n",
       "      <th>registration_init_time</th>\n",
       "      <th>expiration_date</th>\n",
       "    </tr>\n",
       "  </thead>\n",
       "  <tbody>\n",
       "    <tr>\n",
       "      <th>0</th>\n",
       "      <td>URiXrfYPzHAlk+7+n7BOMl9G+T7g8JmrSnT/BU8GmEo=</td>\n",
       "      <td>1</td>\n",
       "      <td>0</td>\n",
       "      <td>NaN</td>\n",
       "      <td>9</td>\n",
       "      <td>20150525</td>\n",
       "      <td>20150526</td>\n",
       "    </tr>\n",
       "    <tr>\n",
       "      <th>1</th>\n",
       "      <td>U1q0qCqK/lDMTD2kN8G9OXMtfuvLCey20OAIPOvXXGQ=</td>\n",
       "      <td>1</td>\n",
       "      <td>0</td>\n",
       "      <td>NaN</td>\n",
       "      <td>4</td>\n",
       "      <td>20161221</td>\n",
       "      <td>20161224</td>\n",
       "    </tr>\n",
       "    <tr>\n",
       "      <th>2</th>\n",
       "      <td>W6M2H2kAoN9ahfDYKo3J6tmsJRAeuFc9wl1cau5VL1Q=</td>\n",
       "      <td>1</td>\n",
       "      <td>0</td>\n",
       "      <td>NaN</td>\n",
       "      <td>4</td>\n",
       "      <td>20160306</td>\n",
       "      <td>20160309</td>\n",
       "    </tr>\n",
       "    <tr>\n",
       "      <th>3</th>\n",
       "      <td>1qE5+cN7CUyC+KFH6gBZzMWmM1QpIVW6A43BEm98I/w=</td>\n",
       "      <td>5</td>\n",
       "      <td>17</td>\n",
       "      <td>female</td>\n",
       "      <td>4</td>\n",
       "      <td>20161031</td>\n",
       "      <td>20161107</td>\n",
       "    </tr>\n",
       "    <tr>\n",
       "      <th>4</th>\n",
       "      <td>SeAnaZPI+tFdAt+r3lZt/B8PgTp7bcG/1os39u4pLxs=</td>\n",
       "      <td>1</td>\n",
       "      <td>0</td>\n",
       "      <td>NaN</td>\n",
       "      <td>4</td>\n",
       "      <td>20170202</td>\n",
       "      <td>20170205</td>\n",
       "    </tr>\n",
       "  </tbody>\n",
       "</table>\n",
       "</div>"
      ],
      "text/plain": [
       "                                           msno  city  bd  gender  \\\n",
       "0  URiXrfYPzHAlk+7+n7BOMl9G+T7g8JmrSnT/BU8GmEo=     1   0     NaN   \n",
       "1  U1q0qCqK/lDMTD2kN8G9OXMtfuvLCey20OAIPOvXXGQ=     1   0     NaN   \n",
       "2  W6M2H2kAoN9ahfDYKo3J6tmsJRAeuFc9wl1cau5VL1Q=     1   0     NaN   \n",
       "3  1qE5+cN7CUyC+KFH6gBZzMWmM1QpIVW6A43BEm98I/w=     5  17  female   \n",
       "4  SeAnaZPI+tFdAt+r3lZt/B8PgTp7bcG/1os39u4pLxs=     1   0     NaN   \n",
       "\n",
       "   registered_via  registration_init_time  expiration_date  \n",
       "0               9                20150525         20150526  \n",
       "1               4                20161221         20161224  \n",
       "2               4                20160306         20160309  \n",
       "3               4                20161031         20161107  \n",
       "4               4                20170202         20170205  "
      ]
     },
     "execution_count": 11,
     "metadata": {},
     "output_type": "execute_result"
    }
   ],
   "source": [
    "members_df.head()"
   ]
  },
  {
   "cell_type": "code",
   "execution_count": 12,
   "metadata": {},
   "outputs": [
    {
     "data": {
      "text/html": [
       "<div>\n",
       "<table border=\"1\" class=\"dataframe\">\n",
       "  <thead>\n",
       "    <tr style=\"text-align: right;\">\n",
       "      <th></th>\n",
       "      <th>msno</th>\n",
       "      <th>payment_method_id</th>\n",
       "      <th>payment_plan_days</th>\n",
       "      <th>plan_list_price</th>\n",
       "      <th>actual_amount_paid</th>\n",
       "      <th>is_auto_renew</th>\n",
       "      <th>transaction_date</th>\n",
       "      <th>membership_expire_date</th>\n",
       "      <th>is_cancel</th>\n",
       "    </tr>\n",
       "  </thead>\n",
       "  <tbody>\n",
       "    <tr>\n",
       "      <th>0</th>\n",
       "      <td>YyO+tlZtAXYXoZhNr3Vg3+dfVQvrBVGO8j1mfqe4ZHc=</td>\n",
       "      <td>41</td>\n",
       "      <td>30</td>\n",
       "      <td>129</td>\n",
       "      <td>129</td>\n",
       "      <td>1</td>\n",
       "      <td>20150930</td>\n",
       "      <td>20151101</td>\n",
       "      <td>0</td>\n",
       "    </tr>\n",
       "    <tr>\n",
       "      <th>1</th>\n",
       "      <td>AZtu6Wl0gPojrEQYB8Q3vBSmE2wnZ3hi1FbK1rQQ0A4=</td>\n",
       "      <td>41</td>\n",
       "      <td>30</td>\n",
       "      <td>149</td>\n",
       "      <td>149</td>\n",
       "      <td>1</td>\n",
       "      <td>20150930</td>\n",
       "      <td>20151031</td>\n",
       "      <td>0</td>\n",
       "    </tr>\n",
       "    <tr>\n",
       "      <th>2</th>\n",
       "      <td>UkDFI97Qb6+s2LWcijVVv4rMAsORbVDT2wNXF0aVbns=</td>\n",
       "      <td>41</td>\n",
       "      <td>30</td>\n",
       "      <td>129</td>\n",
       "      <td>129</td>\n",
       "      <td>1</td>\n",
       "      <td>20150930</td>\n",
       "      <td>20160427</td>\n",
       "      <td>0</td>\n",
       "    </tr>\n",
       "    <tr>\n",
       "      <th>3</th>\n",
       "      <td>M1C56ijxozNaGD0t2h68PnH2xtx5iO5iR2MVYQB6nBI=</td>\n",
       "      <td>39</td>\n",
       "      <td>30</td>\n",
       "      <td>149</td>\n",
       "      <td>149</td>\n",
       "      <td>1</td>\n",
       "      <td>20150930</td>\n",
       "      <td>20151128</td>\n",
       "      <td>0</td>\n",
       "    </tr>\n",
       "    <tr>\n",
       "      <th>4</th>\n",
       "      <td>yvj6zyBUaqdbUQSrKsrZ+xNDVM62knauSZJzakS9OW4=</td>\n",
       "      <td>39</td>\n",
       "      <td>30</td>\n",
       "      <td>149</td>\n",
       "      <td>149</td>\n",
       "      <td>1</td>\n",
       "      <td>20150930</td>\n",
       "      <td>20151121</td>\n",
       "      <td>0</td>\n",
       "    </tr>\n",
       "  </tbody>\n",
       "</table>\n",
       "</div>"
      ],
      "text/plain": [
       "                                           msno  payment_method_id  \\\n",
       "0  YyO+tlZtAXYXoZhNr3Vg3+dfVQvrBVGO8j1mfqe4ZHc=                 41   \n",
       "1  AZtu6Wl0gPojrEQYB8Q3vBSmE2wnZ3hi1FbK1rQQ0A4=                 41   \n",
       "2  UkDFI97Qb6+s2LWcijVVv4rMAsORbVDT2wNXF0aVbns=                 41   \n",
       "3  M1C56ijxozNaGD0t2h68PnH2xtx5iO5iR2MVYQB6nBI=                 39   \n",
       "4  yvj6zyBUaqdbUQSrKsrZ+xNDVM62knauSZJzakS9OW4=                 39   \n",
       "\n",
       "   payment_plan_days  plan_list_price  actual_amount_paid  is_auto_renew  \\\n",
       "0                 30              129                 129              1   \n",
       "1                 30              149                 149              1   \n",
       "2                 30              129                 129              1   \n",
       "3                 30              149                 149              1   \n",
       "4                 30              149                 149              1   \n",
       "\n",
       "   transaction_date  membership_expire_date  is_cancel  \n",
       "0          20150930                20151101          0  \n",
       "1          20150930                20151031          0  \n",
       "2          20150930                20160427          0  \n",
       "3          20150930                20151128          0  \n",
       "4          20150930                20151121          0  "
      ]
     },
     "execution_count": 12,
     "metadata": {},
     "output_type": "execute_result"
    }
   ],
   "source": [
    "transactions_df.head()"
   ]
  },
  {
   "cell_type": "code",
   "execution_count": null,
   "metadata": {
    "collapsed": true
   },
   "outputs": [],
   "source": [
    "user_logs_df.head()"
   ]
  },
  {
   "cell_type": "code",
   "execution_count": 5,
   "metadata": {},
   "outputs": [
    {
     "data": {
      "text/html": [
       "<div>\n",
       "<table border=\"1\" class=\"dataframe\">\n",
       "  <thead>\n",
       "    <tr style=\"text-align: right;\">\n",
       "      <th></th>\n",
       "      <th>msno</th>\n",
       "      <th>is_churn</th>\n",
       "    </tr>\n",
       "  </thead>\n",
       "  <tbody>\n",
       "    <tr>\n",
       "      <th>0</th>\n",
       "      <td>ugx0CjOMzazClkFzU2xasmDZaoIqOUAZPsH1q0teWCg=</td>\n",
       "      <td>0</td>\n",
       "    </tr>\n",
       "    <tr>\n",
       "      <th>1</th>\n",
       "      <td>f/NmvEzHfhINFEYZTR05prUdr+E+3+oewvweYz9cCQE=</td>\n",
       "      <td>0</td>\n",
       "    </tr>\n",
       "    <tr>\n",
       "      <th>2</th>\n",
       "      <td>zLo9f73nGGT1p21ltZC3ChiRnAVvgibMyazbCxvWPcg=</td>\n",
       "      <td>0</td>\n",
       "    </tr>\n",
       "    <tr>\n",
       "      <th>3</th>\n",
       "      <td>8iF/+8HY8lJKFrTc7iR9ZYGCG2Ecrogbc2Vy5YhsfhQ=</td>\n",
       "      <td>0</td>\n",
       "    </tr>\n",
       "    <tr>\n",
       "      <th>4</th>\n",
       "      <td>K6fja4+jmoZ5xG6BypqX80Uw/XKpMgrEMdG2edFOxnA=</td>\n",
       "      <td>0</td>\n",
       "    </tr>\n",
       "  </tbody>\n",
       "</table>\n",
       "</div>"
      ],
      "text/plain": [
       "                                           msno  is_churn\n",
       "0  ugx0CjOMzazClkFzU2xasmDZaoIqOUAZPsH1q0teWCg=         0\n",
       "1  f/NmvEzHfhINFEYZTR05prUdr+E+3+oewvweYz9cCQE=         0\n",
       "2  zLo9f73nGGT1p21ltZC3ChiRnAVvgibMyazbCxvWPcg=         0\n",
       "3  8iF/+8HY8lJKFrTc7iR9ZYGCG2Ecrogbc2Vy5YhsfhQ=         0\n",
       "4  K6fja4+jmoZ5xG6BypqX80Uw/XKpMgrEMdG2edFOxnA=         0"
      ]
     },
     "execution_count": 5,
     "metadata": {},
     "output_type": "execute_result"
    }
   ],
   "source": [
    "sample_submission_zero.head()"
   ]
  },
  {
   "cell_type": "code",
   "execution_count": 7,
   "metadata": {},
   "outputs": [
    {
     "data": {
      "text/plain": [
       "5116194"
      ]
     },
     "execution_count": 7,
     "metadata": {},
     "output_type": "execute_result"
    }
   ],
   "source": [
    "len(members_df[\"msno\"].unique())"
   ]
  },
  {
   "cell_type": "code",
   "execution_count": null,
   "metadata": {
    "collapsed": true
   },
   "outputs": [],
   "source": []
  }
 ],
 "metadata": {
  "kernelspec": {
   "display_name": "Python 3",
   "language": "python",
   "name": "python3"
  },
  "language_info": {
   "codemirror_mode": {
    "name": "ipython",
    "version": 3
   },
   "file_extension": ".py",
   "mimetype": "text/x-python",
   "name": "python",
   "nbconvert_exporter": "python",
   "pygments_lexer": "ipython3",
   "version": "3.6.0"
  }
 },
 "nbformat": 4,
 "nbformat_minor": 2
}
